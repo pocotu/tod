{
 "cells": [
  {
   "cell_type": "code",
   "execution_count": 1,
   "metadata": {},
   "outputs": [
    {
     "name": "stdout",
     "output_type": "stream",
     "text": [
      "Original: [1, ['X', 3], [4, 5]]\n",
      "Shallow copy: [1, ['X', 3], [4, 5]]\n",
      "Deep copy: [1, [2, 3], [4, 5]]\n"
     ]
    }
   ],
   "source": [
    "import copy\n",
    "\n",
    "# Crear una lista original con objetos internos\n",
    "original_list = [1, [2, 3], [4, 5]]\n",
    "\n",
    "# Hacer una copia superficial\n",
    "shallow_copy = copy.copy(original_list)\n",
    "\n",
    "# Hacer una copia profunda\n",
    "deep_copy = copy.deepcopy(original_list)\n",
    "\n",
    "# Modificar la lista original y sus objetos internos\n",
    "original_list[1][0] = 'X'\n",
    "\n",
    "# Imprimir las tres listas para ver cómo afecta la modificación\n",
    "print(\"Original:\", original_list)\n",
    "print(\"Shallow copy:\", shallow_copy)\n",
    "print(\"Deep copy:\", deep_copy)"
   ]
  },
  {
   "cell_type": "code",
   "execution_count": 2,
   "metadata": {},
   "outputs": [
    {
     "name": "stdout",
     "output_type": "stream",
     "text": [
      "iiii: 0\n",
      "i: 0, j: 1\n",
      "i: 0, j: 2\n",
      "i: 0, j: 3\n",
      "i: 0, j: 4\n",
      "iiii: 1\n",
      "i: 1, j: 2\n",
      "i: 1, j: 3\n",
      "i: 1, j: 4\n",
      "iiii: 2\n",
      "i: 2, j: 3\n",
      "i: 2, j: 4\n",
      "iiii: 3\n",
      "i: 3, j: 4\n"
     ]
    }
   ],
   "source": [
    "n = 5  # Ejemplo de valor para n\n",
    "\n",
    "for i in range(0, n - 1):\n",
    "    print(f\"iiii: {i}\")\n",
    "    for j in range(i + 1, n):\n",
    "        print(f\"i: {i}, j: {j}\")"
   ]
  },
  {
   "cell_type": "code",
   "execution_count": 3,
   "metadata": {},
   "outputs": [
    {
     "name": "stdout",
     "output_type": "stream",
     "text": [
      "Mejor horario encontrado:\n",
      "{'curso': 'Curso1', 'profesor': 'Profesor10', 'dia': 'Viernes', 'horario': 'Tarde'}\n",
      "{'curso': 'Curso2', 'profesor': 'Profesor4', 'dia': 'Viernes', 'horario': 'Tarde'}\n",
      "{'curso': 'Curso3', 'profesor': 'Profesor8', 'dia': 'Jueves', 'horario': 'Tarde'}\n",
      "{'curso': 'Curso4', 'profesor': 'Profesor1', 'dia': 'Viernes', 'horario': 'Mañana'}\n",
      "{'curso': 'Curso5', 'profesor': 'Profesor1', 'dia': 'Viernes', 'horario': 'Mañana'}\n",
      "{'curso': 'Curso6', 'profesor': 'Profesor9', 'dia': 'Jueves', 'horario': 'Tarde'}\n",
      "{'curso': 'Curso7', 'profesor': 'Profesor10', 'dia': 'Miércoles', 'horario': 'Mañana'}\n",
      "{'curso': 'Curso8', 'profesor': 'Profesor6', 'dia': 'Miércoles', 'horario': 'Mañana'}\n",
      "{'curso': 'Curso9', 'profesor': 'Profesor7', 'dia': 'Viernes', 'horario': 'Tarde'}\n",
      "{'curso': 'Curso10', 'profesor': 'Profesor9', 'dia': 'Lunes', 'horario': 'Mañana'}\n"
     ]
    }
   ],
   "source": [
    "import random\n",
    "\n",
    "# Definición del problema\n",
    "cursos = [\"Curso1\", \"Curso2\", \"Curso3\", \"Curso4\", \"Curso5\", \"Curso6\", \"Curso7\", \"Curso8\", \"Curso9\", \"Curso10\"]\n",
    "profesores = [\"Profesor1\", \"Profesor2\", \"Profesor3\", \"Profesor4\", \"Profesor5\", \"Profesor6\", \"Profesor7\", \"Profesor8\", \"Profesor9\", \"Profesor10\"]\n",
    "dias = [\"Lunes\", \"Martes\", \"Miércoles\", \"Jueves\", \"Viernes\"]\n",
    "horarios = [\"Mañana\", \"Tarde\"]\n",
    "duracion_clase = 1  # En horas\n",
    "\n",
    "# Representación de una solución (cromosoma)\n",
    "def generar_horario():\n",
    "    horario = []\n",
    "    for curso in cursos:\n",
    "        asignacion = {\n",
    "            \"curso\": curso,\n",
    "            \"profesor\": random.choice(profesores),\n",
    "            \"dia\": random.choice(dias),\n",
    "            \"horario\": random.choice(horarios),\n",
    "        }\n",
    "        horario.append(asignacion)\n",
    "    return horario\n",
    "\n",
    "# Función de aptitud (evaluación de la calidad de la solución)\n",
    "def evaluar_horario(horario):\n",
    "    # Aquí deberías incluir lógica para evaluar restricciones y asignar un valor de aptitud\n",
    "    return 0  # Placeholder, debes ajustar esto según tus necesidades\n",
    "\n",
    "# Algoritmo genético\n",
    "def algoritmo_genetico(num_generaciones, tamano_poblacion):\n",
    "    poblacion = [generar_horario() for _ in range(tamano_poblacion)]\n",
    "\n",
    "    for generacion in range(num_generaciones):\n",
    "        poblacion = sorted(poblacion, key=lambda x: evaluar_horario(x))\n",
    "\n",
    "        # Operadores genéticos: selección, cruzamiento y mutación\n",
    "        nueva_poblacion = []\n",
    "\n",
    "        # Selección de padres (puedes usar diferentes estrategias como torneos, ruleta, etc.)\n",
    "        padres = poblacion[:tamano_poblacion // 2]\n",
    "\n",
    "        # Cruzamiento\n",
    "        for _ in range(tamano_poblacion // 2):\n",
    "            padre1, padre2 = random.sample(padres, 2)\n",
    "            punto_corte = random.randint(1, len(cursos) - 1)\n",
    "            hijo = padre1[:punto_corte] + padre2[punto_corte:]\n",
    "            nueva_poblacion.append(hijo)\n",
    "\n",
    "        # Mutación\n",
    "        for i in range(tamano_poblacion // 2):\n",
    "            if random.random() < tasa_mutacion:\n",
    "                punto_mutacion = random.randint(0, len(cursos) - 1)\n",
    "                nueva_poblacion[i][punto_mutacion] = generar_horario()[0]\n",
    "\n",
    "        poblacion = padres + nueva_poblacion\n",
    "\n",
    "    mejor_horario = min(poblacion, key=lambda x: evaluar_horario(x))\n",
    "    return mejor_horario\n",
    "\n",
    "# Parámetros del algoritmo\n",
    "num_generaciones = 100\n",
    "tamano_poblacion = 50\n",
    "tasa_mutacion = 0.1\n",
    "\n",
    "# Ejecución del algoritmo genético\n",
    "mejor_solucion = algoritmo_genetico(num_generaciones, tamano_poblacion)\n",
    "\n",
    "# Mostrar la mejor solución encontrada\n",
    "print(\"Mejor horario encontrado:\")\n",
    "for asignacion in mejor_solucion:\n",
    "    print(asignacion)"
   ]
  }
 ],
 "metadata": {
  "kernelspec": {
   "display_name": "Practi",
   "language": "python",
   "name": "python3"
  },
  "language_info": {
   "codemirror_mode": {
    "name": "ipython",
    "version": 3
   },
   "file_extension": ".py",
   "mimetype": "text/x-python",
   "name": "python",
   "nbconvert_exporter": "python",
   "pygments_lexer": "ipython3",
   "version": "3.9.17"
  }
 },
 "nbformat": 4,
 "nbformat_minor": 2
}
