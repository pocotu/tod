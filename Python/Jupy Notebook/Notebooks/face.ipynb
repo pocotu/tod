{
 "cells": [
  {
   "cell_type": "code",
   "execution_count": 3,
   "metadata": {},
   "outputs": [
    {
     "ename": "ModuleNotFoundError",
     "evalue": "No module named 'face_recognition'",
     "output_type": "error",
     "traceback": [
      "\u001b[1;31m---------------------------------------------------------------------------\u001b[0m",
      "\u001b[1;31mModuleNotFoundError\u001b[0m                       Traceback (most recent call last)",
      "\u001b[1;32md:\\Algo\\Win\\AllProy\\Python\\Notebooks\\face.ipynb Cell 1'\u001b[0m in \u001b[0;36m<cell line: 2>\u001b[1;34m()\u001b[0m\n\u001b[0;32m      <a href='vscode-notebook-cell:/d%3A/Algo/Win/AllProy/Python/Notebooks/face.ipynb#ch0000000?line=0'>1</a>\u001b[0m \u001b[39mimport\u001b[39;00m \u001b[39mcv2\u001b[39;00m \u001b[39mas\u001b[39;00m \u001b[39mcv2\u001b[39;00m\n\u001b[1;32m----> <a href='vscode-notebook-cell:/d%3A/Algo/Win/AllProy/Python/Notebooks/face.ipynb#ch0000000?line=1'>2</a>\u001b[0m \u001b[39mimport\u001b[39;00m \u001b[39mface_recognition\u001b[39;00m\n\u001b[0;32m      <a href='vscode-notebook-cell:/d%3A/Algo/Win/AllProy/Python/Notebooks/face.ipynb#ch0000000?line=2'>3</a>\u001b[0m \u001b[39mimport\u001b[39;00m \u001b[39mnumpy\u001b[39;00m\n\u001b[0;32m      <a href='vscode-notebook-cell:/d%3A/Algo/Win/AllProy/Python/Notebooks/face.ipynb#ch0000000?line=3'>4</a>\u001b[0m \u001b[39m# Get image from a folder\u001b[39;00m\n",
      "\u001b[1;31mModuleNotFoundError\u001b[0m: No module named 'face_recognition'"
     ]
    }
   ],
   "source": [
    "import cv2 as cv2\n",
    "import face_recognition\n",
    "import numpy\n",
    "# Get image from a folder\n",
    "path = \"caras.jpg\"\n",
    "image = cv2.imread(path)\n",
    "wight = int(image.shape[1] * 0.35)\n",
    "height = int(image.shape[0] * 0.35)\n",
    "image = cv2.resize(image, (wight, height))\n",
    "# Create a temporary blank image.\n",
    "blank = numpy.zeros((100, 100, 3))\n",
    "# Draw rectangle on faces on image\n",
    "face_location = face_recognition.face_locations(image)\n",
    "for i in face_location:\n",
    "    draw_rectangle = cv2.rectangle(image, (i[3], i[0]), (i[1], i[2]), (0, 255, 0), 2)\n",
    "cv2.imshow(\"blank\", draw_rectangle)\n",
    "# Cut the faces from image\n",
    "for i in face_location:\n",
    "    blank = image[i[0]:i[2], i[3]:i[1]]\n",
    "    cv2.imshow(f\"face{i}\", blank)\n",
    "    cv2.imwrite(f\"face{i}.jpg\", blank)\n",
    "cv2.waitKey(0)\n"
   ]
  }
 ],
 "metadata": {
  "kernelspec": {
   "display_name": "Python 3.8.12 ('practica')",
   "language": "python",
   "name": "python3"
  },
  "language_info": {
   "codemirror_mode": {
    "name": "ipython",
    "version": 3
   },
   "file_extension": ".py",
   "mimetype": "text/x-python",
   "name": "python",
   "nbconvert_exporter": "python",
   "pygments_lexer": "ipython3",
   "version": "3.8.12"
  },
  "orig_nbformat": 4,
  "vscode": {
   "interpreter": {
    "hash": "ddd898ffcac8b174d9458573293799aa37fcc87d459b9efa4a5ab5ed4bce8439"
   }
  }
 },
 "nbformat": 4,
 "nbformat_minor": 2
}
