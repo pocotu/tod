{
 "cells": [
  {
   "cell_type": "code",
   "execution_count": 10,
   "metadata": {},
   "outputs": [],
   "source": [
    "def ValidarNumero(n):\n",
    "    if 0 < n < 20:\n",
    "        return crearTriangulo(n)\n",
    "    else:\n",
    "        return ValidarTexto(input(\"Ingrese un número entre 1 y 200: \"))"
   ]
  },
  {
   "cell_type": "code",
   "execution_count": 11,
   "metadata": {},
   "outputs": [],
   "source": [
    "def ValidarTexto(n):\n",
    "    if n.isdigit():\n",
    "        return ValidarNumero(int(n))\n",
    "    else:\n",
    "        return ValidarTexto(input(\"Ingrese un númerooo: \"))"
   ]
  },
  {
   "cell_type": "code",
   "execution_count": 12,
   "metadata": {},
   "outputs": [],
   "source": [
    "def factorial(num):\n",
    "    if num > 0:\n",
    "        # Haciendo el factorial de un numero con recursividad\n",
    "        return int(num*factorial(num-1))\n",
    "    else:\n",
    "        return 1"
   ]
  },
  {
   "cell_type": "code",
   "execution_count": 13,
   "metadata": {},
   "outputs": [],
   "source": [
    "def combinatoria(num1, num2):\n",
    "    return int(factorial(num1) / (factorial(num2)*factorial(num1-num2)))"
   ]
  },
  {
   "cell_type": "code",
   "execution_count": 14,
   "metadata": {},
   "outputs": [],
   "source": [
    "def crearTriangulo(n_filas):\n",
    "    for fila in range(n_filas):\n",
    "        for j in range(n_filas-fila+1):\n",
    "            print(\" \", end=\"\")\n",
    "        if fila == 0:\n",
    "            #print(\"1\")\n",
    "            print(\"1 1\")\n",
    "\n",
    "        else:\n",
    "            for j in range(fila+2):\n",
    "                print(combinatoria(fila+1, j), end=\" \")\n",
    "            print()\n"
   ]
  },
  {
   "cell_type": "code",
   "execution_count": 15,
   "metadata": {},
   "outputs": [
    {
     "name": "stdout",
     "output_type": "stream",
     "text": [
      "      1 1\n",
      "     1 2 1 \n",
      "    1 3 3 1 \n",
      "   1 4 6 4 1 \n",
      "  1 5 10 10 5 1 \n"
     ]
    }
   ],
   "source": [
    "n = input(\"Indica el número de filas que desee: \")\n",
    "ValidarTexto(n)"
   ]
  }
 ],
 "metadata": {
  "kernelspec": {
   "display_name": "Python 3.9.12 ('proy')",
   "language": "python",
   "name": "python3"
  },
  "language_info": {
   "codemirror_mode": {
    "name": "ipython",
    "version": 3
   },
   "file_extension": ".py",
   "mimetype": "text/x-python",
   "name": "python",
   "nbconvert_exporter": "python",
   "pygments_lexer": "ipython3",
   "version": "3.9.12"
  },
  "orig_nbformat": 4,
  "vscode": {
   "interpreter": {
    "hash": "c4a41fbcb2b3389e86b1dededf8eefe1f5ba55179327e30f539f216593883df4"
   }
  }
 },
 "nbformat": 4,
 "nbformat_minor": 2
}
