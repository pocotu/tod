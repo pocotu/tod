{
 "cells": [
  {
   "cell_type": "code",
   "execution_count": 7,
   "metadata": {},
   "outputs": [
    {
     "name": "stdout",
     "output_type": "stream",
     "text": [
      "True\n"
     ]
    }
   ],
   "source": [
    "s = input(\"Ingrese una cadena: \")\n",
    "\n",
    "def es_palindromo(s):\n",
    "    return s == s[::-1]\n",
    "\n",
    "print(es_palindromo(s))"
   ]
  },
  {
   "cell_type": "code",
   "execution_count": 8,
   "metadata": {},
   "outputs": [
    {
     "name": "stdout",
     "output_type": "stream",
     "text": [
      "No es palindromo\n"
     ]
    }
   ],
   "source": [
    "if s == es_palindromo(s):\n",
    "    print(\"Es palindromo\")\n",
    "else:\n",
    "    print(\"No es palindromo\")"
   ]
  }
 ],
 "metadata": {
  "kernelspec": {
   "display_name": "Python 3.8.12 ('practica')",
   "language": "python",
   "name": "python3"
  },
  "language_info": {
   "codemirror_mode": {
    "name": "ipython",
    "version": 3
   },
   "file_extension": ".py",
   "mimetype": "text/x-python",
   "name": "python",
   "nbconvert_exporter": "python",
   "pygments_lexer": "ipython3",
   "version": "3.8.12"
  },
  "orig_nbformat": 4,
  "vscode": {
   "interpreter": {
    "hash": "ddd898ffcac8b174d9458573293799aa37fcc87d459b9efa4a5ab5ed4bce8439"
   }
  }
 },
 "nbformat": 4,
 "nbformat_minor": 2
}
