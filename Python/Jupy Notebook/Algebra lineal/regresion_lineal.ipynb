{
 "cells": [
  {
   "cell_type": "code",
   "execution_count": null,
   "metadata": {},
   "outputs": [],
   "source": []
  }
 ],
 "metadata": {
  "kernelspec": {
   "display_name": "Python 3.9.13 ('practica')",
   "language": "python",
   "name": "python3"
  },
  "language_info": {
   "name": "python",
   "version": "3.9.13"
  },
  "orig_nbformat": 4,
  "vscode": {
   "interpreter": {
    "hash": "4da7eb6d3f180a88e862d847eea2f43ed039a3ea8bfc6ea8ee8633b4db61baa7"
   }
  }
 },
 "nbformat": 4,
 "nbformat_minor": 2
}
