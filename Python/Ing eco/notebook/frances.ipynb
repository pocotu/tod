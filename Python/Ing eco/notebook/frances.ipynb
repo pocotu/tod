{
 "cells": [
  {
   "cell_type": "code",
   "execution_count": null,
   "metadata": {},
   "outputs": [],
   "source": [
    "import matplotlib.pyplot as plt\n",
    "import pandas as pd"
   ]
  },
  {
   "cell_type": "code",
   "execution_count": 1,
   "metadata": {},
   "outputs": [
    {
     "name": "stdout",
     "output_type": "stream",
     "text": [
      "    PRÉSTAMO SISTEMA FRANCES\n",
      "Plan de pagos\n",
      "     Cuota Interes   Amort.  Capital\n",
      "0        0       0        0    10000\n",
      "1  1970.17   500.0  1470.17  8529.83\n",
      "2  1970.17  426.49  1543.68  6986.15\n",
      "3  1970.17  349.31  1620.86  5365.29\n",
      "4  1970.17  268.26  1701.91  3663.38\n",
      "5  1970.17  183.17   1787.0  1876.38\n",
      "6  1970.17   93.82  1876.35     0.03\n",
      "\n",
      "Total intereses : 1821.05\n"
     ]
    }
   ],
   "source": [
    "def prestamo_frances(capital, tipo, periodo, anio):\n",
    "    # formula de la cuota del prestamo sistema frances\n",
    "    cuota= round(capital*((tipo/(anio*100))/(1-(1+(tipo/(anio*100)))**(-1*periodo))),2)\n",
    "    print(    'Plan de pagos')\n",
    "\n",
    "    # crear un dataframe para guardar los datos\n",
    "    plan = pd.DataFrame(columns=['Cuota','Interes','Amort.','Capital'])\n",
    "    # guardar el capital inicial\n",
    "    plan.loc[0,'Capital']= capital\n",
    "    plan.loc[0,'Cuota']= 0\n",
    "    plan.loc[0,'Interes']= 0\n",
    "    plan.loc[0,'Amort.']= 0\n",
    "\n",
    "    # calcular los datos de cada cuota\n",
    "    for t in range(1,periodo+1):\n",
    "        # guardar la cuota\n",
    "        plan.loc[t,'Cuota']= cuota\n",
    "        plan.loc[t,'Interes']= round(float(plan.loc[t-1,'Capital']*(tipo/(100*anio))),2)\n",
    "        plan.loc[t,'Amort.']= (plan.loc[t,'Cuota']-plan.loc[t,'Interes'])\n",
    "        plan.loc[t,'Capital']= plan.loc[t-1,'Capital']-plan.loc[t,'Amort.']\n",
    "\n",
    "    print(plan)\n",
    "    # imprimir el total de intereses\n",
    "    print('\\nTotal intereses :',round(float(plan['Interes'].sum()),2))\n",
    "\n",
    "\n",
    "def main():\n",
    "    capital = int(input('Capital : '))\n",
    "    tipo = float(input('T.int. anual nominal: '))\n",
    "    periodo = int(input('Num. pagos: '))\n",
    "    anio = int(input('Pagos por año: '))\n",
    "    prestamo_frances(capital, tipo, periodo, anio)\n",
    "\n",
    "main()"
   ]
  }
 ],
 "metadata": {
  "kernelspec": {
   "display_name": "Python 3.9.13 ('practica')",
   "language": "python",
   "name": "python3"
  },
  "language_info": {
   "codemirror_mode": {
    "name": "ipython",
    "version": 3
   },
   "file_extension": ".py",
   "mimetype": "text/x-python",
   "name": "python",
   "nbconvert_exporter": "python",
   "pygments_lexer": "ipython3",
   "version": "3.9.13"
  },
  "orig_nbformat": 4,
  "vscode": {
   "interpreter": {
    "hash": "ddd898ffcac8b174d9458573293799aa37fcc87d459b9efa4a5ab5ed4bce8439"
   }
  }
 },
 "nbformat": 4,
 "nbformat_minor": 2
}
