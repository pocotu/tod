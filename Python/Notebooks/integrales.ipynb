{
 "cells": [
  {
   "cell_type": "code",
   "execution_count": 50,
   "id": "acb7e08d",
   "metadata": {},
   "outputs": [],
   "source": [
    "import scipy as np\n",
    "import sympy as smp\n",
    "import matplotlib.pyplot as plt\n",
    "from scipy.integrate import quad\n",
    "from scipy.integrate import cumulative_trapezoid"
   ]
  },
  {
   "cell_type": "markdown",
   "id": "a636d865",
   "metadata": {},
   "source": [
    "# Caso simbolico"
   ]
  },
  {
   "attachments": {
    "180d3c29-c8a9-4322-9bef-decc568f6e2d.png": {
     "image/png": "[encoded data removed]"
    }
   },
   "cell_type": "markdown",
   "id": "cd1c6075-657a-4626-a1ee-7c7a7e6fdbe0",
   "metadata": {},
   "source": [
    "En este caso hay dos opciones\n",
    "1. La integral puede ser resuelta analiticamente $\\int f(x)dx=$ \n",
    "2. La integral no puede ser resuelto analiticamente\n",
    "podemos intentarc con sympy primero para si la integral puede ser resuelta analiticamente"
   ]
  },
  {
   "cell_type": "markdown",
   "id": "4698f98e-a45a-4b35-b394-b56cf6ace577",
   "metadata": {},
   "source": [
    "## Parte 1: Resolver"
   ]
  },
  {
   "cell_type": "markdown",
   "id": "520cacb7-1802-437f-9533-3c7fbd3f025c",
   "metadata": {},
   "source": [
    "**Ejemplo:** Encuentre $\\int \\sin^3(x) e^{-5x} dx$"
   ]
  },
  {
   "cell_type": "code",
   "execution_count": 51,
   "id": "0f4b3bac-e418-4d1a-9573-93f887055e54",
   "metadata": {},
   "outputs": [],
   "source": [
    "x = smp.symbols('x', real=True)\n",
    "f = smp.sin(x)**3 * smp.exp(-5*x)"
   ]
  },
  {
   "cell_type": "code",
   "execution_count": 52,
   "id": "8d0a7952-b546-4cfe-be41-f6f9711ed1ba",
   "metadata": {},
   "outputs": [
    {
     "data": {
      "text/latex": [
       "$\\displaystyle - \\frac{40 e^{- 5 x} \\sin^{3}{\\left(x \\right)}}{221} - \\frac{21 e^{- 5 x} \\sin^{2}{\\left(x \\right)} \\cos{\\left(x \\right)}}{221} - \\frac{15 e^{- 5 x} \\sin{\\left(x \\right)} \\cos^{2}{\\left(x \\right)}}{442} - \\frac{3 e^{- 5 x} \\cos^{3}{\\left(x \\right)}}{442}$"
      ],
      "text/plain": [
       "-40*exp(-5*x)*sin(x)**3/221 - 21*exp(-5*x)*sin(x)**2*cos(x)/221 - 15*exp(-5*x)*sin(x)*cos(x)**2/442 - 3*exp(-5*x)*cos(x)**3/442"
      ]
     },
     "execution_count": 52,
     "metadata": {},
     "output_type": "execute_result"
    }
   ],
   "source": [
    "smp.integrate(f, x)"
   ]
  },
  {
   "cell_type": "markdown",
   "id": "5d2c0c62-2296-4b7b-81e7-498ec33e5996",
   "metadata": {},
   "source": [
    "**Ejemplo:** $\\int \\cos(bx)e^{-ax}dx$ "
   ]
  },
  {
   "cell_type": "code",
   "execution_count": 53,
   "id": "e95800a8",
   "metadata": {},
   "outputs": [],
   "source": [
    "a, b = smp.symbols('a b', real=True, positive=True)\n",
    "f = smp.cos(b*x) * smp.exp(-a*x)"
   ]
  },
  {
   "cell_type": "code",
   "execution_count": 54,
   "id": "07bcaa46",
   "metadata": {},
   "outputs": [
    {
     "data": {
      "text/latex": [
       "$\\displaystyle \\frac{\\left(- a \\cos{\\left(b x \\right)} + b \\sin{\\left(b x \\right)}\\right) e^{- a x}}{a^{2} + b^{2}}$"
      ],
      "text/plain": [
       "(-a*cos(b*x) + b*sin(b*x))*exp(-a*x)/(a**2 + b**2)"
      ]
     },
     "execution_count": 54,
     "metadata": {},
     "output_type": "execute_result"
    }
   ],
   "source": [
    "smp.integrate(f, x).simplify()"
   ]
  },
  {
   "cell_type": "markdown",
   "id": "144cb912-54f6-4885-8b28-6a9af76ce67d",
   "metadata": {
    "tags": []
   },
   "source": [
    "**Ejemplo:** $\\int \\frac{(1+\\sqrt{x})^{1/3}}{\\sqrt{x}}dx$"
   ]
  },
  {
   "cell_type": "code",
   "execution_count": 55,
   "id": "730d8627-b40f-446d-ba1f-a5d544e14d56",
   "metadata": {},
   "outputs": [
    {
     "data": {
      "text/latex": [
       "$\\displaystyle \\frac{3 \\left(\\sqrt{x} + 1\\right)^{\\frac{4}{3}}}{2}$"
      ],
      "text/plain": [
       "3*(sqrt(x) + 1)**(4/3)/2"
      ]
     },
     "execution_count": 55,
     "metadata": {},
     "output_type": "execute_result"
    }
   ],
   "source": [
    "f = (1+smp.sqrt(x))**smp.Rational(1,3) / smp.sqrt(x)\n",
    "smp.integrate(f,x).simplify()"
   ]
  },
  {
   "cell_type": "markdown",
   "id": "3b915f35-a707-4ef7-963b-ea640c4bde13",
   "metadata": {},
   "source": [
    "**Ejemplo:** Define: $\\int_{0}^{\\ln(4)} \\frac{e^{x}}{\\sqrt{e^{2x}+9}} dx$"
   ]
  },
  {
   "cell_type": "code",
   "execution_count": 56,
   "id": "6b6d6564-7b59-45c7-94e0-c0465f77b897",
   "metadata": {},
   "outputs": [
    {
     "data": {
      "text/latex": [
       "$\\displaystyle - \\operatorname{asinh}{\\left(\\frac{1}{3} \\right)} + \\operatorname{asinh}{\\left(\\frac{4}{3} \\right)}$"
      ],
      "text/plain": [
       "-asinh(1/3) + asinh(4/3)"
      ]
     },
     "execution_count": 56,
     "metadata": {},
     "output_type": "execute_result"
    }
   ],
   "source": [
    "f = smp.exp(x) / smp.sqrt(smp.exp(2*x)+9)\n",
    "smp.integrate(f, (x, 0, smp.log(4)))"
   ]
  },
  {
   "cell_type": "markdown",
   "id": "29889fc3",
   "metadata": {},
   "source": [
    "*Ejemplo:* (incorrecto) $\\int_{0}^{\\infty} \\frac{16 \\tan^{-1}(x)}{1+x^2} dx$"
   ]
  },
  {
   "cell_type": "code",
   "execution_count": 57,
   "id": "1e00951c",
   "metadata": {},
   "outputs": [
    {
     "data": {
      "text/latex": [
       "$\\displaystyle 2 \\pi^{2}$"
      ],
      "text/plain": [
       "2*pi**2"
      ]
     },
     "execution_count": 57,
     "metadata": {},
     "output_type": "execute_result"
    }
   ],
   "source": [
    "f = 16*smp.atan(x) / (1+x**2)\n",
    "smp.integrate(f, (x, 0, smp.oo))"
   ]
  },
  {
   "cell_type": "markdown",
   "id": "c1fbe4a8",
   "metadata": {},
   "source": [
    "## Parte 2: Integrales sin solucion"
   ]
  },
  {
   "cell_type": "markdown",
   "id": "b9e6903c",
   "metadata": {},
   "source": [
    "**Ejemplo:** $\\int_{1}^{2} {e^{-\\sin(x)}}dx$"
   ]
  },
  {
   "cell_type": "markdown",
   "id": "cbf82416",
   "metadata": {},
   "source": [
    "No correra"
   ]
  },
  {
   "cell_type": "code",
   "execution_count": 58,
   "id": "0d3da3e1",
   "metadata": {},
   "outputs": [],
   "source": [
    "#f = smp.exp(-smp.sin(x))\n",
    "#smp.integrate(f, (x, 1 ,2)).simplify()"
   ]
  },
  {
   "cell_type": "markdown",
   "id": "55907679",
   "metadata": {},
   "source": [
    "Usamos la funcion `quad` de scipy para integrar numericamente"
   ]
  },
  {
   "cell_type": "code",
   "execution_count": 59,
   "id": "272d9d3e",
   "metadata": {},
   "outputs": [],
   "source": [
    "f = lambda x: np.exp(-np.sin(x))"
   ]
  },
  {
   "cell_type": "code",
   "execution_count": 60,
   "id": "df070390",
   "metadata": {},
   "outputs": [
    {
     "name": "stderr",
     "output_type": "stream",
     "text": [
      "C:\\Users\\rossb\\AppData\\Local\\Temp\\ipykernel_13596\\870613783.py:1: DeprecationWarning: scipy.sin is deprecated and will be removed in SciPy 2.0.0, use numpy.sin instead\n",
      "  f = lambda x: np.exp(-np.sin(x))\n",
      "C:\\Users\\rossb\\AppData\\Local\\Temp\\ipykernel_13596\\870613783.py:1: DeprecationWarning: scipy.exp is deprecated and will be removed in SciPy 2.0.0, use numpy.exp instead\n",
      "  f = lambda x: np.exp(-np.sin(x))\n"
     ]
    },
    {
     "data": {
      "text/plain": [
       "(0.3845918142796868, 4.2698268729567035e-15)"
      ]
     },
     "execution_count": 60,
     "metadata": {},
     "output_type": "execute_result"
    }
   ],
   "source": [
    "f = lambda x: np.exp(-np.sin(x))\n",
    "quad(f, 1, 2)"
   ]
  },
  {
   "cell_type": "markdown",
   "id": "9b7a9c95",
   "metadata": {},
   "source": [
    "**Ejemplo:** $ \\int_{0}^{2\\pi} \\frac{1}{(a-\\cos(x))^{2}+(b-\\sin(x))^2} dx$"
   ]
  },
  {
   "cell_type": "code",
   "execution_count": null,
   "id": "a9e5689d",
   "metadata": {},
   "outputs": [],
   "source": [
    "#f = 1/((a-smp.cos(x))**2 + (b-smp.sin(x))**2)\n",
    "#smp.integrate(f, (x, 0, 2*smp.pi)).simplify()"
   ]
  },
  {
   "cell_type": "code",
   "execution_count": 62,
   "id": "c0e62b68",
   "metadata": {},
   "outputs": [
    {
     "name": "stderr",
     "output_type": "stream",
     "text": [
      "C:\\Users\\rossb\\AppData\\Local\\Temp\\ipykernel_13596\\1297007201.py:1: DeprecationWarning: scipy.cos is deprecated and will be removed in SciPy 2.0.0, use numpy.cos instead\n",
      "  f = lambda x: 1/((a-np.cos(x))**2 + (b-np.sin(x))**2)\n",
      "C:\\Users\\rossb\\AppData\\Local\\Temp\\ipykernel_13596\\1297007201.py:1: DeprecationWarning: scipy.sin is deprecated and will be removed in SciPy 2.0.0, use numpy.sin instead\n",
      "  f = lambda x: 1/((a-np.cos(x))**2 + (b-np.sin(x))**2)\n"
     ]
    },
    {
     "data": {
      "text/plain": [
       "(0.5235987755982989, 1.9168824822309832e-13)"
      ]
     },
     "execution_count": 62,
     "metadata": {},
     "output_type": "execute_result"
    }
   ],
   "source": [
    "f = lambda x: 1/((a-np.cos(x))**2 + (b-np.sin(x))**2)\n",
    "a, b = 2, 3\n",
    "quad(f, 0, 2*np.pi)"
   ]
  },
  {
   "cell_type": "markdown",
   "id": "1f12973a",
   "metadata": {},
   "source": [
    "Esto no se ejecutara porque no tiene una solucion analitica. Debemos resolverlo numericamente y por lo tanto, debemos elegir valores de $a$ y $b$ cada vez"
   ]
  },
  {
   "cell_type": "markdown",
   "id": "1f80257c-7384-4462-a0fa-a6f9239afc47",
   "metadata": {
    "tags": []
   },
   "source": [
    "# Caso numerico\n",
    "En este caso donde uno recopila datos reales y quiere encontrar la integral"
   ]
  },
  {
   "cell_type": "markdown",
   "id": "493fb7fe-6744-4ad8-81a7-e950e2fd0c0e",
   "metadata": {},
   "source": [
    "**Ejemplo:**: Pulsos electricos en fisica de particulas"
   ]
  },
  {
   "cell_type": "code",
   "execution_count": null,
   "id": "af1f4513-6dd2-4381-b9dd-e161c13b1b21",
   "metadata": {},
   "outputs": [],
   "source": []
  },
  {
   "cell_type": "markdown",
   "id": "560e1794",
   "metadata": {},
   "source": [
    "**Example:** Datos de covid"
   ]
  }
 ],
 "metadata": {
  "kernelspec": {
   "display_name": "Python 3 (ipykernel)",
   "language": "python",
   "name": "python3"
  },
  "language_info": {
   "codemirror_mode": {
    "name": "ipython",
    "version": 3
   },
   "file_extension": ".py",
   "mimetype": "text/x-python",
   "name": "python",
   "nbconvert_exporter": "python",
   "pygments_lexer": "ipython3",
   "version": "3.8.12"
  }
 },
 "nbformat": 4,
 "nbformat_minor": 5
}
