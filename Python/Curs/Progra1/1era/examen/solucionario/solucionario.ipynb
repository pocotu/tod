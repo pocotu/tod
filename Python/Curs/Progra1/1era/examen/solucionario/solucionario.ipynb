{
 "cells": [
  {
   "attachments": {},
   "cell_type": "markdown",
   "metadata": {},
   "source": [
    "## Ejercicio 1\n",
    "Implementar una función recursiva que tenga como parámetro un número entero en  base 10 y devuelva su valor correspondiente en base 2. Implementar mínimo 2 soluciones diferentes  para el mismo problema (ejm “binario1” y “binario2”). Implementar una función principal que  permita ingresar un número entero y haga el llamado a las dos versiones de la función recursiva \n",
    "implementada."
   ]
  },
  {
   "cell_type": "code",
   "execution_count": 16,
   "metadata": {},
   "outputs": [
    {
     "name": "stdout",
     "output_type": "stream",
     "text": [
      "El número 121 en base 2 es: 1111001\n",
      "El número 121 en base 2 es: 1111001\n"
     ]
    }
   ],
   "source": [
    "def binario1(n):\n",
    "    # si el número es 0, regresa una cadena vacía\n",
    "    if n == 0:\n",
    "        return \"\"\n",
    "    \n",
    "    else:\n",
    "        # devuelve una cadena de caracteres que representa \n",
    "        # el número entero dado como parámetro en base 2.\n",
    "        return binario1(n // 2) + str(n % 2)\n",
    "\n",
    "def binario2(n, res):\n",
    "    if n == 0:\n",
    "        res.reverse()  # invierte el orden de los elementos en la lista\n",
    "        return \"\".join(res)  # convierte la lista en una cadena de caracteres\n",
    "    else:\n",
    "        # Se obtiene el primer dígito del número en base 2 como el módulo de la división del número entero por 2, y se almacena en la lista.\n",
    "        res.append(str(n % 2))\n",
    "        # Se hace una llamada recursiva a la función con el cociente de la división del número entero por 2 como parámetro, y la lista de dígitos del número en base 2 como parámetro. Esto se repite hasta que el cociente sea 0.\n",
    "        return binario2(n // 2, res)\n",
    "\n",
    "\n",
    "def main():\n",
    "    n = int(input(\"Ingresa un número entero: \"))\n",
    "    print(f\"El número {n} en base 2 es: {binario1(n)}\")\n",
    "    print(f\"El número {n} en base 2 es: {binario2(n, [])}\") \n",
    "\n",
    "main()"
   ]
  },
  {
   "attachments": {},
   "cell_type": "markdown",
   "metadata": {},
   "source": [
    "## Ejercicio 2\n",
    "\n",
    "Implementar una función recursiva llamada “ordenadoCrecientemente”, que tenga como parámetro de entrada un número entero positivo y verifique si los dígitos de dicho número están ordenados crecientemente. Puede implementar funciones auxiliares que permitan implementar dicha función. Implementar una función principal que permita ingresar un número y muestre un mensaje indicando si los dígitos están o no ordenados de forma creciente."
   ]
  },
  {
   "cell_type": "code",
   "execution_count": 9,
   "metadata": {},
   "outputs": [
    {
     "name": "stdout",
     "output_type": "stream",
     "text": [
      "El número no está ordenado crecientemente.\n"
     ]
    }
   ],
   "source": [
    "def potencia(base, exponente):\n",
    "    if exponente == 0:\n",
    "        return 1\n",
    "    else:\n",
    "        return base * potencia(base, exponente - 1)\n",
    "    \n",
    "def nroDigitos(n):\n",
    "    if n < 10:\n",
    "        return 1\n",
    "    else:\n",
    "        return 1 + nroDigitos(n // 10)\n",
    "    \n",
    "def ordenadoCrecientemente(n):\n",
    "    if n < 10:\n",
    "        return True\n",
    "    else:\n",
    "        nroIzquierda = n // potencia(10, nroDigitos(n) - 1)\n",
    "        n = n - nroIzquierda * potencia(10, nroDigitos(n) - 1)\n",
    "        nroDerecha = n // potencia(10, nroDigitos(n) - 1)\n",
    "        if (nroIzquierda <= nroDerecha):\n",
    "            return ordenadoCrecientemente(n)\n",
    "        else:\n",
    "            return False\n",
    "\n",
    "# funcion principal\n",
    "def main():\n",
    "    n = int(input(\"Ingresa un número entero: \"))\n",
    "    if ordenadoCrecientemente(n):\n",
    "        print(\"El número está ordenado crecientemente.\")\n",
    "    else:\n",
    "        print(\"El número no está ordenado crecientemente.\")\n",
    "\n",
    "main()"
   ]
  },
  {
   "attachments": {},
   "cell_type": "markdown",
   "metadata": {},
   "source": [
    "## Ejercicio 3\n",
    "\n",
    "Dada un string, se desea saber el char más común de ese string. Caso hubiera un  empate, el programa deberá imprimir cualquiera de los caracteres más frecuentes. Hacer uso de diccionarios. Implementar una función principal que haga uso de la función implementada."
   ]
  },
  {
   "cell_type": "code",
   "execution_count": 12,
   "metadata": {},
   "outputs": [
    {
     "name": "stdout",
     "output_type": "stream",
     "text": [
      "La cadena de caracteres:  tres triste tigres\n",
      "El caracter más común es:  t\n"
     ]
    }
   ],
   "source": [
    "def char_mas_comun(string):\n",
    "    # Creamos un diccionario vacío para almacenar la frecuencia de cada caracter\n",
    "    frecuentes = {}\n",
    "    for c in string:\n",
    "        # Si el caracter ya está en el diccionario, incrementamos su valor en 1\n",
    "        if c in frecuentes:\n",
    "            frecuentes[c] += 1\n",
    "        # Si no está, lo agregamos al diccionario con valor 1\n",
    "        else:\n",
    "            frecuentes[c] = 1\n",
    "\n",
    "    # Buscamos el caracter con el valor máximo en el diccionario\n",
    "    char_mas_comun = max(frecuentes, key=frecuentes.get)\n",
    "    return char_mas_comun\n",
    "\n",
    "def main():\n",
    "    string = input(\"Ingresa una cadena de caracteres: \")\n",
    "    print(\"La cadena de caracteres: \", string)\n",
    "    print(\"El caracter más común es: \", char_mas_comun(string))\n",
    "\n",
    "main()"
   ]
  },
  {
   "attachments": {},
   "cell_type": "markdown",
   "metadata": {},
   "source": [
    "## Ejercicio 4\n",
    "\n",
    "Implementar una función recursiva que, dada una string s y un carácter c, cuente el  número de ocurrencias del carácter c en el string s. Implementar una función principal que haga uso  de la función implementada."
   ]
  },
  {
   "cell_type": "code",
   "execution_count": 14,
   "metadata": {},
   "outputs": [
    {
     "name": "stdout",
     "output_type": "stream",
     "text": [
      "El caracter t aparece 4 veces en la cadena:  tres triste tigres\n"
     ]
    }
   ],
   "source": [
    "def contar_ocurrencias(s, c):\n",
    "    if len(s) == 0:\n",
    "        return 0\n",
    "    else:\n",
    "        if s[0] == c:\n",
    "            return 1 + contar_ocurrencias(s[1:], c)\n",
    "        else:\n",
    "            return contar_ocurrencias(s[1:], c)\n",
    "        \n",
    "def main():\n",
    "    s = input(\"Ingresa una cadena de caracteres: \")\n",
    "    c = input(\"Ingresa un caracter: \")\n",
    "    print(\"El caracter\", c, \"aparece\", contar_ocurrencias(s, c), \"veces en la cadena: \", s)\n",
    "\n",
    "main()"
   ]
  }
 ],
 "metadata": {
  "kernelspec": {
   "display_name": "practica",
   "language": "python",
   "name": "python3"
  },
  "language_info": {
   "codemirror_mode": {
    "name": "ipython",
    "version": 3
   },
   "file_extension": ".py",
   "mimetype": "text/x-python",
   "name": "python",
   "nbconvert_exporter": "python",
   "pygments_lexer": "ipython3",
   "version": "3.9.13"
  },
  "orig_nbformat": 4,
  "vscode": {
   "interpreter": {
    "hash": "ddd898ffcac8b174d9458573293799aa37fcc87d459b9efa4a5ab5ed4bce8439"
   }
  }
 },
 "nbformat": 4,
 "nbformat_minor": 2
}
