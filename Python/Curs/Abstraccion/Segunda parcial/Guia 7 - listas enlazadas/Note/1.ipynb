{
 "cells": [
  {
   "cell_type": "code",
   "execution_count": 2,
   "metadata": {},
   "outputs": [
    {
     "ename": "TypeError",
     "evalue": "Node() takes no arguments",
     "output_type": "error",
     "traceback": [
      "\u001b[1;31m---------------------------------------------------------------------------\u001b[0m",
      "\u001b[1;31mTypeError\u001b[0m                                 Traceback (most recent call last)",
      "\u001b[1;32md:\\Algo\\Win\\tod\\Python\\Abstraccion\\Guia 7\\1.ipynb Cell 1\u001b[0m in \u001b[0;36m<cell line: 60>\u001b[1;34m()\u001b[0m\n\u001b[0;32m     <a href='vscode-notebook-cell:/d%3A/Algo/Win/tod/Python/Abstraccion/Guia%207/1.ipynb#ch0000000?line=55'>56</a>\u001b[0m             conta\u001b[39m=\u001b[39m conta \u001b[39m+\u001b[39m \u001b[39m1\u001b[39m \n\u001b[0;32m     <a href='vscode-notebook-cell:/d%3A/Algo/Win/tod/Python/Abstraccion/Guia%207/1.ipynb#ch0000000?line=58'>59</a>\u001b[0m myLinkedList \u001b[39m=\u001b[39m LinkedList()\n\u001b[1;32m---> <a href='vscode-notebook-cell:/d%3A/Algo/Win/tod/Python/Abstraccion/Guia%207/1.ipynb#ch0000000?line=59'>60</a>\u001b[0m myLinkedList\u001b[39m.\u001b[39;49minsertIntoEmptyList(\u001b[39m10\u001b[39;49m)\n\u001b[0;32m     <a href='vscode-notebook-cell:/d%3A/Algo/Win/tod/Python/Abstraccion/Guia%207/1.ipynb#ch0000000?line=60'>61</a>\u001b[0m myLinkedList\u001b[39m.\u001b[39minsertAtBeginning(\u001b[39m20\u001b[39m)\n\u001b[0;32m     <a href='vscode-notebook-cell:/d%3A/Algo/Win/tod/Python/Abstraccion/Guia%207/1.ipynb#ch0000000?line=61'>62</a>\u001b[0m myLinkedList\u001b[39m.\u001b[39minsertAtBeginning(\u001b[39m30\u001b[39m)\n",
      "\u001b[1;32md:\\Algo\\Win\\tod\\Python\\Abstraccion\\Guia 7\\1.ipynb Cell 1\u001b[0m in \u001b[0;36mLinkedList.insertIntoEmptyList\u001b[1;34m(self, element)\u001b[0m\n\u001b[0;32m     <a href='vscode-notebook-cell:/d%3A/Algo/Win/tod/Python/Abstraccion/Guia%207/1.ipynb#ch0000000?line=20'>21</a>\u001b[0m \u001b[39mdef\u001b[39;00m \u001b[39minsertIntoEmptyList\u001b[39m(\u001b[39mself\u001b[39m, element):\n\u001b[1;32m---> <a href='vscode-notebook-cell:/d%3A/Algo/Win/tod/Python/Abstraccion/Guia%207/1.ipynb#ch0000000?line=21'>22</a>\u001b[0m     newNode \u001b[39m=\u001b[39m Node(element)\n\u001b[0;32m     <a href='vscode-notebook-cell:/d%3A/Algo/Win/tod/Python/Abstraccion/Guia%207/1.ipynb#ch0000000?line=22'>23</a>\u001b[0m     \u001b[39mself\u001b[39m\u001b[39m.\u001b[39mHead \u001b[39m=\u001b[39m newNode\n",
      "\u001b[1;31mTypeError\u001b[0m: Node() takes no arguments"
     ]
    }
   ],
   "source": [
    "\n",
    "class Node:\n",
    "    def _init_(self, data):\n",
    "        self.data = data\n",
    "        self.next = None\n",
    "\n",
    "\n",
    "class LinkedList:\n",
    "    def _init_(self):\n",
    "        self.Head = None\n",
    "\n",
    "    def printList(self):\n",
    "        current = self.Head\n",
    "        while current is not None:\n",
    "            print(current.data, end=\" \")\n",
    "            current = current.next\n",
    "\n",
    "    def insertIntoEmptyList(self, element):\n",
    "        newNode = Node(element)\n",
    "        self.Head = newNode\n",
    "\n",
    "    def insertAtBeginning(self, element):\n",
    "        newNode = Node(element)\n",
    "        newNode.next = self.Head\n",
    "        self.Head = newNode\n",
    "\n",
    "    def insertAtEnd(self, element):\n",
    "        if self.Head is None:\n",
    "            newNode = Node(element)\n",
    "            self.Head = newNode\n",
    "        else:\n",
    "            current = self.Head\n",
    "            while current.next is not None:\n",
    "                current = current.next\n",
    "            newNode = Node(element)\n",
    "            current.next = newNode\n",
    "            \n",
    "    def insertPosicion ( self , element , pos ):\n",
    "        conta = 1\n",
    "        current= self.Head\n",
    "        newNode = Node(element)\n",
    "        while  conta < pos+1 : \n",
    "            if conta ==pos :\n",
    "                almacen = current.next \n",
    "                current = newNode\n",
    "                current.next = almacen\n",
    "                next = current\n",
    "                break\n",
    "            else : \n",
    "                current = current.next\n",
    "                \n",
    "                \n",
    "            conta= conta + 1 \n",
    "            "
   ]
  }
 ],
 "metadata": {
  "kernelspec": {
   "display_name": "Python 3.8.12 ('practica')",
   "language": "python",
   "name": "python3"
  },
  "language_info": {
   "codemirror_mode": {
    "name": "ipython",
    "version": 3
   },
   "file_extension": ".py",
   "mimetype": "text/x-python",
   "name": "python",
   "nbconvert_exporter": "python",
   "pygments_lexer": "ipython3",
   "version": "3.8.12"
  },
  "orig_nbformat": 4,
  "vscode": {
   "interpreter": {
    "hash": "ddd898ffcac8b174d9458573293799aa37fcc87d459b9efa4a5ab5ed4bce8439"
   }
  }
 },
 "nbformat": 4,
 "nbformat_minor": 2
}
