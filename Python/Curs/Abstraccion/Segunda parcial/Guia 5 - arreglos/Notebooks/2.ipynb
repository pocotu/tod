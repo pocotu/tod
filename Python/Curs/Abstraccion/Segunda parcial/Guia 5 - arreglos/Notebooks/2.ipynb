{
 "cells": [
  {
   "cell_type": "markdown",
   "metadata": {},
   "source": [
    "Escriba un programa NumPy para calcular la suma de todas las columnas de una\n",
    "matriz 2D NumPy"
   ]
  },
  {
   "cell_type": "code",
   "execution_count": 48,
   "metadata": {},
   "outputs": [
    {
     "name": "stdout",
     "output_type": "stream",
     "text": [
      "[[0. 0. 0. 0. 0. 0. 0. 0.]\n",
      " [0. 0. 0. 0. 0. 0. 0. 0.]\n",
      " [0. 0. 0. 0. 0. 0. 0. 0.]\n",
      " [0. 0. 0. 0. 0. 0. 0. 0.]\n",
      " [0. 0. 0. 0. 0. 0. 0. 0.]]\n"
     ]
    }
   ],
   "source": [
    "import numpy as np\n",
    "\n",
    "filas = (input(\"Ingrese el número de filas: \"))\n",
    "matriz = np.zeros((int(filas), 8))\n",
    "print(matriz)"
   ]
  },
  {
   "cell_type": "markdown",
   "metadata": {},
   "source": [
    "Genera numeros aleatorios de 0 a 100"
   ]
  },
  {
   "cell_type": "code",
   "execution_count": 49,
   "metadata": {},
   "outputs": [
    {
     "name": "stdout",
     "output_type": "stream",
     "text": [
      "[ 1. 61. 27. 32. 76. 55. 17. 95.]\n",
      "[ 2. 91. 83. 89. 12. 82. 28. 71.]\n",
      "[ 3. 36.  6.  9. 79.  1. 85. 82.]\n",
      "[ 4. 26. 28. 11. 44. 32. 76. 19.]\n",
      "[ 5. 40. 13. 75. 69. 52. 88.  8.]\n"
     ]
    }
   ],
   "source": [
    "for i in range(0, int(filas)):\n",
    "    matriz[i][0] = i + 1\n",
    "    for j in range(1, 8):\n",
    "        matriz[i][j] = np.random.randint(1, 100)\n",
    "    print(matriz[i])"
   ]
  },
  {
   "cell_type": "markdown",
   "metadata": {},
   "source": [
    "Imprime la suma de todas las columnas de la matriz"
   ]
  },
  {
   "cell_type": "code",
   "execution_count": 50,
   "metadata": {},
   "outputs": [
    {
     "name": "stdout",
     "output_type": "stream",
     "text": [
      "Suma de cada columna es: [ 15. 254. 157. 216. 280. 222. 294. 275.]\n"
     ]
    }
   ],
   "source": [
    "print('Suma de cada columna es:', np.sum(matriz, axis=0))"
   ]
  }
 ],
 "metadata": {
  "kernelspec": {
   "display_name": "Python 3.8.12 ('practica')",
   "language": "python",
   "name": "python3"
  },
  "language_info": {
   "codemirror_mode": {
    "name": "ipython",
    "version": 3
   },
   "file_extension": ".py",
   "mimetype": "text/x-python",
   "name": "python",
   "nbconvert_exporter": "python",
   "pygments_lexer": "ipython3",
   "version": "3.8.12"
  },
  "orig_nbformat": 4,
  "vscode": {
   "interpreter": {
    "hash": "ddd898ffcac8b174d9458573293799aa37fcc87d459b9efa4a5ab5ed4bce8439"
   }
  }
 },
 "nbformat": 4,
 "nbformat_minor": 2
}
