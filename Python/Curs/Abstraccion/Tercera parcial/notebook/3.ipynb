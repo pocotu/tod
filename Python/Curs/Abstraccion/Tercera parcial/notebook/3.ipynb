{
 "cells": [
  {
   "cell_type": "markdown",
   "metadata": {},
   "source": [
    "Escriba una clase de Python para implementar potencia (x, n).\n",
    "\n",
    "Ejemplo: \n",
    "\n",
    "Objeto.potencia(2,-3) \n",
    "\n",
    "Objeto.potencia(3,5) \n",
    "\n",
    "Objeto.potencia(1000, 0) \n",
    "\n",
    "Resultado \n",
    "\n",
    "0.125 \n",
    "\n",
    "246 \n",
    "\n",
    "1 "
   ]
  },
  {
   "cell_type": "code",
   "execution_count": 13,
   "metadata": {},
   "outputs": [
    {
     "name": "stdout",
     "output_type": "stream",
     "text": [
      "0.125\n",
      "243\n",
      "1\n"
     ]
    }
   ],
   "source": [
    "# crear una clase para implementar una potencia (x, n)\n",
    "class Potencia:\n",
    "    # constructor de la clase\n",
    "    def __init__(self, x, n):\n",
    "        # atributos de la clase\n",
    "        self.x = x # valor de x\n",
    "        self.n = n # valor de n\n",
    "    # metodo para calcular la potencia\n",
    "    def calcular(self):\n",
    "        # retorna la potencia de x a la n\n",
    "        return self.x ** self.n\n",
    "# ejemplos\n",
    "Objeto = Potencia(2, -3)\n",
    "print(Objeto.calcular())\n",
    "Objeto = Potencia(3, 5)\n",
    "print(Objeto.calcular())\n",
    "Objeto = Potencia(1000, 0)\n",
    "print(Objeto.calcular())"
   ]
  },
  {
   "cell_type": "markdown",
   "metadata": {},
   "source": [
    "Escriba una clase de Python para invertir una cadena palabra por palabra. \n",
    "\n",
    "Ejemplo: \n",
    "\n",
    "Objeto.reverso(‘hola mundo’) \n",
    "\n",
    "Resultado \n",
    "\n",
    "mundo hola\n"
   ]
  },
  {
   "cell_type": "code",
   "execution_count": 14,
   "metadata": {},
   "outputs": [
    {
     "name": "stdout",
     "output_type": "stream",
     "text": [
      "odnuM aloH\n"
     ]
    }
   ],
   "source": [
    "# crear una clase para invertir una cadena de texto cararcter a caracter\n",
    "class Invertir:\n",
    "    # constructor de la clase\n",
    "    def __init__(self, cadena):\n",
    "        # atributos de la clase\n",
    "        self.cadena = cadena # valor de la cadena\n",
    "    def calcular(self):\n",
    "        # retorna la cadena invertida\n",
    "        return self.cadena[::-1]\n",
    "# ejemplos\n",
    "Objeto = Invertir(\"Hola Mundo\")\n",
    "print(Objeto.calcular())"
   ]
  },
  {
   "cell_type": "markdown",
   "metadata": {},
   "source": [
    "Escriba una clase de Python que tenga dos métodos get_String e print_String  Get_String acepta una cadena del usuario y print_String imprime la cadena  en mayúsculas. \n",
    "\n",
    "Ejemplo: \n",
    "\n",
    "Objeto. get_String() \n",
    "\n",
    "Objeto. print_String () \n",
    "\n",
    "Resultado \n",
    "\n",
    "“lo que ingreso con el teclado” \n"
   ]
  },
  {
   "cell_type": "code",
   "execution_count": 16,
   "metadata": {},
   "outputs": [
    {
     "name": "stdout",
     "output_type": "stream",
     "text": [
      "HOLA MUNDO\n"
     ]
    }
   ],
   "source": [
    "# crear una clase para los metodos get_string e print_string y que imprima una cadena de texto en mayusculas la cadena ingresada por el usuario\n",
    "class Mayusculas:\n",
    "    # constructor de la clase\n",
    "    def __init__(self, cadena):\n",
    "        # atributos de la clase\n",
    "        self.cadena = cadena # valor de la cadena\n",
    "    def get_string(self):\n",
    "        # retorna la cadena en mayusculas\n",
    "        return self.cadena.upper()\n",
    "    def print_string(self):\n",
    "        # imprime la cadena en mayusculas\n",
    "        print(self.get_string())\n",
    "# ejemplos\n",
    "Objeto = Mayusculas(\"Hola Mundo\")\n",
    "Objeto.print_string()"
   ]
  },
  {
   "cell_type": "markdown",
   "metadata": {},
   "source": [
    "Escribe una clase de Python llamada circulo construida por un radio y dos  métodos que calcularán el área y el perímetro de un círculo. \n",
    "\n",
    "Ejemplo: \n",
    "\n",
    "Objeto = clase(8) \n",
    "\n",
    "print(Objeto.area()) \n",
    "\n",
    "print(Objeto.perimeter()) \n",
    "\n",
    "Resultado \n",
    "\n",
    "200.96 \n",
    "\n",
    "50.21\n"
   ]
  },
  {
   "cell_type": "code",
   "execution_count": 31,
   "metadata": {},
   "outputs": [
    {
     "name": "stdout",
     "output_type": "stream",
     "text": [
      "201.06176\n",
      "50.26544\n"
     ]
    }
   ],
   "source": [
    "# crear una clase circulo construida por un radio y dos metodos para calcular el area y el perimetro\n",
    "class Circulo:\n",
    "    # constructor de la clase\n",
    "    def __init__(self, radio):\n",
    "        # atributos de la clase\n",
    "        self.radio = radio # valor del radio\n",
    "    def calcular_area(self):\n",
    "        # retorna el area del circulo\n",
    "        return 3.14159 * self.radio ** 2\n",
    "    def calcular_perimetro(self):\n",
    "        # retorna el perimetro del circulo\n",
    "        return 2 * 3.14159 * self.radio\n",
    "# ejemplos\n",
    "Objeto = Circulo(8)\n",
    "print(Objeto.calcular_area())\n",
    "print(Objeto.calcular_perimetro())"
   ]
  }
 ],
 "metadata": {
  "kernelspec": {
   "display_name": "Python 3.8.12 ('practica')",
   "language": "python",
   "name": "python3"
  },
  "language_info": {
   "codemirror_mode": {
    "name": "ipython",
    "version": 3
   },
   "file_extension": ".py",
   "mimetype": "text/x-python",
   "name": "python",
   "nbconvert_exporter": "python",
   "pygments_lexer": "ipython3",
   "version": "3.8.12"
  },
  "orig_nbformat": 4,
  "vscode": {
   "interpreter": {
    "hash": "ddd898ffcac8b174d9458573293799aa37fcc87d459b9efa4a5ab5ed4bce8439"
   }
  }
 },
 "nbformat": 4,
 "nbformat_minor": 2
}
