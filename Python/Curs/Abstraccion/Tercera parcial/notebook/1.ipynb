{
 "cells": [
  {
   "cell_type": "code",
   "execution_count": 5,
   "metadata": {},
   "outputs": [
    {
     "name": "stdout",
     "output_type": "stream",
     "text": [
      "El titular de la cuenta es Juan y su saldo es de 1000\n",
      "El titular de la cuenta es Pedro y su saldo es de 2000\n",
      "El titular de la cuenta es Juan y su saldo es de 500\n",
      "El titular de la cuenta es Pedro y su saldo es de 2500\n"
     ]
    }
   ],
   "source": [
    "# importar ramdom para generar numeros aleatorios\n",
    "import random\n",
    "\n",
    "class CCC():\n",
    "    # propiedades: saldoDeCuenta, nombreDelTitular, numeroDeCuenta\n",
    "    \n",
    "    # constructor de la clase con dos parametros: nombreDelTitular y saldoDeCuenta\n",
    "    def __init__(self, nombreDelTitular, saldoDeCuenta):\n",
    "        self.nombreDelTitular = nombreDelTitular\n",
    "        self.saldoDeCuenta = saldoDeCuenta\n",
    "        # asignar un numero de cuenta corriente, de tipo long, de forma aleatoria\n",
    "        self.numeroDeCuenta = random.randint(100000000, 999999999)\n",
    "    \n",
    "    ##  metodos de clase ##\n",
    "\n",
    "    # crear dos setters\n",
    "    # hacer ingresos (setIngreso)\n",
    "    def setIngreso(self, ingreso):\n",
    "        # si el ingreso es mayor a cero\n",
    "        self.saldoDeCuenta += ingreso\n",
    "    # hacer reIntegros (setReintegro)\n",
    "    def setReintegro(self, reintegro):\n",
    "        # si el reintegro es mayor a cero\n",
    "        self.saldoDeCuenta -= reintegro\n",
    "\n",
    "    # crear dos getters\n",
    "    # obtener el saldo (getSaldoCuenta)\n",
    "    def getSaldoCuenta(self):\n",
    "        # retornar el saldo de la cuenta\n",
    "        return self.saldoDeCuenta\n",
    "    # obtener los datos generales (getDatosCuenta) de una CCC\n",
    "    def getDatosCuenta(self):\n",
    "        # retornar los datos de la cuenta\n",
    "        return 'El titular de la cuenta es {} y su saldo es de {}'.format(self.nombreDelTitular, self.saldoDeCuenta)\n",
    "    \n",
    "    # crear metodo (RealizarTransferenciaEntreCuentas) para permitir realizar transferencias de dinero entre cuentas (de una CCC a otra)\n",
    "    def RealizarTransferenciaEntreCuentas(self, cuentaDestino, monto):\n",
    "        # si el monto es mayor a cero\n",
    "        if self.saldoDeCuenta >= monto:\n",
    "            # restar el monto a la cuenta de origen\n",
    "            self.saldoDeCuenta -= monto\n",
    "            # sumar el monto a la cuenta de destino\n",
    "            cuentaDestino.saldoDeCuenta += monto\n",
    "            return 'Se ha transferido {} de {} a {}'.format(monto, self.nombreDelTitular, cuentaDestino.nombreDelTitular)\n",
    "        else:\n",
    "            return 'No se pudo realizar la transferencia'\n",
    "\n",
    "# llamar a la clase CCC\n",
    "cuenta1 = CCC('Juan', 1000)\n",
    "cuenta2 = CCC('Pedro', 2000)\n",
    "# imprimir los datos generales de la CCC\n",
    "print(cuenta1.getDatosCuenta())\n",
    "print(cuenta2.getDatosCuenta())\n",
    "# transferir de una cuenta a otra\n",
    "cuenta1.RealizarTransferenciaEntreCuentas(cuenta2, 500)\n",
    "# imprimir los datos de las cuentas despues de la transferencia\n",
    "print(cuenta1.getDatosCuenta())\n",
    "print(cuenta2.getDatosCuenta())"
   ]
  }
 ],
 "metadata": {
  "kernelspec": {
   "display_name": "Python 3.8.12 ('practica')",
   "language": "python",
   "name": "python3"
  },
  "language_info": {
   "codemirror_mode": {
    "name": "ipython",
    "version": 3
   },
   "file_extension": ".py",
   "mimetype": "text/x-python",
   "name": "python",
   "nbconvert_exporter": "python",
   "pygments_lexer": "ipython3",
   "version": "3.8.12"
  },
  "orig_nbformat": 4,
  "vscode": {
   "interpreter": {
    "hash": "ddd898ffcac8b174d9458573293799aa37fcc87d459b9efa4a5ab5ed4bce8439"
   }
  }
 },
 "nbformat": 4,
 "nbformat_minor": 2
}
