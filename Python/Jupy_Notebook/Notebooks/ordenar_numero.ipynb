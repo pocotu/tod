{
 "cells": [
  {
   "cell_type": "code",
   "execution_count": 2,
   "metadata": {},
   "outputs": [],
   "source": [
    "arr = [7, 3, 9, 2, 0, 4, 8, 1, 6, 5]"
   ]
  },
  {
   "cell_type": "code",
   "execution_count": null,
   "metadata": {},
   "outputs": [],
   "source": [
    "def entrada_elemetos():\n",
    "    lista = []\n",
    "    num = int(input(\"Ingrese el numero de elementos: \"))\n",
    "    for i in range(num):\n",
    "        lista.append(int(input('Ingrese un numero: ')))\n",
    "    return lista\n"
   ]
  },
  {
   "cell_type": "code",
   "execution_count": 8,
   "metadata": {},
   "outputs": [
    {
     "name": "stdout",
     "output_type": "stream",
     "text": [
      "[0, 1, 2, 3, 4, 5, 6, 7, 8, 9]\n"
     ]
    }
   ],
   "source": [
    "def bubble_sort(lista):\n",
    "    for i in range(len(lista)):\n",
    "        for j in range(len(lista)-1):\n",
    "            if lista[j] > lista[j+1]:\n",
    "                lista[j], lista[j+1] = lista[j+1], lista[j]\n",
    "    return lista\n",
    "\n",
    "print(bubble_sort(arr))"
   ]
  },
  {
   "cell_type": "code",
   "execution_count": 4,
   "metadata": {},
   "outputs": [
    {
     "name": "stdout",
     "output_type": "stream",
     "text": [
      "[0, 1, 2, 3, 4, 5, 6, 7, 8, 9]\n"
     ]
    }
   ],
   "source": [
    "#def burbuja(theseq):\n",
    "#    n = len(theseq)\n",
    "#    for i in range(n-1):\n",
    "#        for j in range(n-1-i):\n",
    "#            if theseq[j] > theseq[j+1]:\n",
    "#                temp = theseq[j]    # swap\n",
    "#                theseq[j], theseq[j+1] = theseq[j+1], temp\n",
    "#    return theseq\n",
    "#\n",
    "#print(burbuja(arr))"
   ]
  }
 ],
 "metadata": {
  "kernelspec": {
   "display_name": "Python 3.9.13 ('practica')",
   "language": "python",
   "name": "python3"
  },
  "language_info": {
   "codemirror_mode": {
    "name": "ipython",
    "version": 3
   },
   "file_extension": ".py",
   "mimetype": "text/x-python",
   "name": "python",
   "nbconvert_exporter": "python",
   "pygments_lexer": "ipython3",
   "version": "3.9.13"
  },
  "orig_nbformat": 4,
  "vscode": {
   "interpreter": {
    "hash": "4da7eb6d3f180a88e862d847eea2f43ed039a3ea8bfc6ea8ee8633b4db61baa7"
   }
  }
 },
 "nbformat": 4,
 "nbformat_minor": 2
}
