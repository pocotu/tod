{
 "cells": [
  {
   "attachments": {},
   "cell_type": "markdown",
   "metadata": {},
   "source": [
    "Nuestro querido Sultán está visitando un país donde hay n diferentes tipos de monedas. Quiere coleccionar tantos tipos diferentes de monedas como puedas. Ahora, si quiere retirar x cantidad de dinero de un Banco, el banco le dará este dinero usando el siguiente algoritmo.\n",
    "\n",
    "def withdraw(X):\n",
    "    if X == 0:\n",
    "        return\n",
    "    Y = max(coin for coin in coins if coin <= X) # coins es una lista de monedas disponibles\n",
    "    print(f\"dar {Y} a los clientes\")\n",
    "    withdraw(X - Y) # recursividad\n",
    "\n",
    "withdraw(X){\n",
    "    if( X == 0) return;\n",
    "    Sea Y la moneda de mayor valor que no exceda X. Dé a la moneda valorada del cliente.\n",
    "    withdraw(X-Y);\n",
    "}\n",
    "\n",
    "Ahora Sultan puede retirar cualquier cantidad de dinero del Banco. Él debe maximizar el número de diferentes monedas que puede recoger en un solo retiro.\n",
    "\n",
    "### Entrada\n",
    "La primera línea de la entrada contiene T el número de casos de prueba. Cada uno de los casos de prueba comienza con n (1 ≤ n ≤ 1000), el número de diferentes tipos de monedas. La siguiente línea contiene n enteros C1, C2, . . . , cn el valor de cada tipo de moneda. C1 < C2 < C3 < . . . < Cn < 1000000000. C1 es igual a 1.\n",
    "\n",
    "### Salida\n",
    "Para cada caso de prueba genera una línea que indica el número máximo de monedas que Sultan puede recolectar en un retiro único. Puede retirar una cantidad infinita de dinero del Banco.\n",
    "\n",
    "Ejemplo de entrada\n",
    "2\n",
    "6\n",
    "1 2 4 8 16 32\n",
    "6\n",
    "1 3 6 8 15 20\n",
    "\n",
    "Ejemplo de salida\n",
    "6\n",
    "4"
   ]
  }
 ],
 "metadata": {
  "language_info": {
   "name": "python"
  },
  "orig_nbformat": 4
 },
 "nbformat": 4,
 "nbformat_minor": 2
}
