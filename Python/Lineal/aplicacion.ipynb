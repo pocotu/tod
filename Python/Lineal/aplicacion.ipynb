{
 "cells": [
  {
   "cell_type": "code",
   "execution_count": 9,
   "metadata": {},
   "outputs": [
    {
     "name": "stdout",
     "output_type": "stream",
     "text": [
      "Mensaje cifrado: DWGPQU\n",
      "Mensaje descifrado: BUENOS\n"
     ]
    }
   ],
   "source": [
    "import string\n",
    "\n",
    "def encrypt(plaintext, a, b):\n",
    "    alphabet = string.ascii_uppercase\n",
    "    m = len(alphabet)\n",
    "    ciphertext = \"\"\n",
    "\n",
    "    for char in plaintext:\n",
    "        if char.upper() in alphabet:\n",
    "            x = alphabet.index(char.upper())\n",
    "            encrypted_char = (a * x + b) % m\n",
    "            ciphertext += alphabet[encrypted_char]\n",
    "        else:\n",
    "            ciphertext += char\n",
    "\n",
    "    return ciphertext\n",
    "\n",
    "def decrypt(ciphertext, a, b):\n",
    "    alphabet = string.ascii_uppercase\n",
    "    m = len(alphabet)\n",
    "    inv_a = pow(a, -1, m)  # Calcular el inverso modular de 'a'\n",
    "\n",
    "    plaintext = \"\"\n",
    "\n",
    "    for char in ciphertext:\n",
    "        if char.upper() in alphabet:\n",
    "            y = alphabet.index(char.upper())\n",
    "            decrypted_char = (inv_a * (y - b)) % m\n",
    "            plaintext += alphabet[decrypted_char]\n",
    "        else:\n",
    "            plaintext += char\n",
    "\n",
    "    return plaintext\n",
    "\n",
    "# Ejemplo de uso:\n",
    "mensaje = input(\"Ingrese el mensaje a cifrar: \")\n",
    "a = int(input(\"Ingrese el valor de a: \"))\n",
    "b = int(input(\"Ingrese el valor de b: \"))\n",
    "\n",
    "# cifrar el mensaje\n",
    "ciphertext = encrypt(mensaje, a, b)\n",
    "print(\"Mensaje cifrado:\", ciphertext)\n",
    "\n",
    "# descifrar el mensaje\n",
    "plaintext = decrypt(ciphertext, a, b)\n",
    "print(\"Mensaje descifrado:\", plaintext)"
   ]
  }
 ],
 "metadata": {
  "kernelspec": {
   "display_name": "Practi",
   "language": "python",
   "name": "python3"
  },
  "language_info": {
   "codemirror_mode": {
    "name": "ipython",
    "version": 3
   },
   "file_extension": ".py",
   "mimetype": "text/x-python",
   "name": "python",
   "nbconvert_exporter": "python",
   "pygments_lexer": "ipython3",
   "version": "3.9.17"
  }
 },
 "nbformat": 4,
 "nbformat_minor": 2
}
