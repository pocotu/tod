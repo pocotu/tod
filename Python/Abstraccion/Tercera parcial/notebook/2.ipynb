{
 "cells": [
  {
   "cell_type": "code",
   "execution_count": 9,
   "metadata": {},
   "outputs": [
    {
     "name": "stdout",
     "output_type": "stream",
     "text": [
      "False\n",
      "41768023\n",
      "41768023\n",
      "8\n"
     ]
    }
   ],
   "source": [
    "import random\n",
    "\n",
    "class Password:\n",
    "    # atributos de longitud y contraseña (por defecto la longitud es de 8)\n",
    "    def __init__(self, password, longitud=8):\n",
    "        self.password = password\n",
    "        self.longitud = longitud\n",
    "\n",
    "    # metodos a implementar son:\n",
    "    # esFuerte(): devuelve booleano si es fuerte o no, con mayusculas, minusculas y mas de 5 numeros\n",
    "    def esFuerte(self):\n",
    "        mayusculas = 0\n",
    "        minusculas = 0\n",
    "        numeros = 0\n",
    "        for i in self.password:\n",
    "            if i.isupper():\n",
    "                mayusculas += 1\n",
    "            elif i.islower():\n",
    "                minusculas += 1\n",
    "            elif i.isdigit():\n",
    "                numeros += 1\n",
    "        if mayusculas > 0 and minusculas > 0 and numeros > 5:\n",
    "            return True\n",
    "        else:\n",
    "            return False\n",
    "    # generarPassword(): genera la contraeña con la longitud que el usuario ingresen\n",
    "    def generarPassword(self):\n",
    "        self.password = random.sample(range(0, 9), self.longitud)\n",
    "        self.password = ''.join(str(e) for e in self.password)\n",
    "        return self.password\n",
    "\n",
    "    # metodos get para contraeña y longitud\n",
    "    def getPassword(self):\n",
    "        return self.password\n",
    "    def getLongitud(self):\n",
    "        return self.longitud\n",
    "    # metodos set para longitud\n",
    "    def setLongitud(self, longitud):\n",
    "        self.longitud = longitud\n",
    "\n",
    "\n",
    "# ejemplo de uso\n",
    "# p = Password('hola')\n",
    "p = Password('hola')\n",
    "print(p.esFuerte())\n",
    "print(p.generarPassword())\n",
    "print(p.getPassword())\n",
    "print(p.getLongitud())\n",
    "p.setLongitud(10)\n"
   ]
  }
 ],
 "metadata": {
  "kernelspec": {
   "display_name": "Python 3.8.12 ('practica')",
   "language": "python",
   "name": "python3"
  },
  "language_info": {
   "codemirror_mode": {
    "name": "ipython",
    "version": 3
   },
   "file_extension": ".py",
   "mimetype": "text/x-python",
   "name": "python",
   "nbconvert_exporter": "python",
   "pygments_lexer": "ipython3",
   "version": "3.8.12"
  },
  "orig_nbformat": 4,
  "vscode": {
   "interpreter": {
    "hash": "ddd898ffcac8b174d9458573293799aa37fcc87d459b9efa4a5ab5ed4bce8439"
   }
  }
 },
 "nbformat": 4,
 "nbformat_minor": 2
}
