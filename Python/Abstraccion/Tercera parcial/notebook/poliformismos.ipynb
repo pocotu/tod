{
 "cells": [
  {
   "cell_type": "code",
   "execution_count": null,
   "metadata": {},
   "outputs": [],
   "source": [
    "class Persona(object):\n",
    "  def __init__(self, parametroCedula, parametroNombre, parametroApellido, parametroSexo):\n",
    "    self.cedula = parametroCedula #Atributo celula\n",
    "    self.nombre = parametroNombre #Atributo nombre\n",
    "    self.apellido = parametroApellido #Atributo apellido\n",
    "    self.sexo = parametroSexo #Atributo seso\n",
    "    \n",
    "  def hablar(self, mensaje):\n",
    "    return mensaje\n",
    "\n",
    "  def descripcion(self):\n",
    "    return self.cedula+\"-\"+self.nombre+\"-\"+self.apellido+\"-\"+self.sexo    \n",
    "\n",
    "  def getGenero(self, sexo):\n",
    "    genero = ('Masculino','Femenino')\n",
    "    if sexo == \"M\":\n",
    "        return genero[0]\n",
    "    elif sexo == \"F\":\n",
    "        return genero[1]\n",
    "    else:\n",
    "        return \"Desconocido\""
   ]
  },
  {
   "cell_type": "code",
   "execution_count": null,
   "metadata": {},
   "outputs": [],
   "source": [
    "persona1 = Persona(\"V-13458796\", \"Leonardo\", \"Caballero\", \"M\")\n",
    "persona1.descripcion()\n",
    "#persona1.getGenero(\"M\")"
   ]
  },
  {
   "cell_type": "code",
   "execution_count": null,
   "metadata": {},
   "outputs": [],
   "source": [
    "class Supervisor(Persona):\n",
    "  def __init__(self, cedula, nombre, apellido, sexo, rol):\n",
    "    Persona.__init__(self, cedula, nombre, apellido, sexo)\n",
    "\n",
    "    self.rol = rol\n",
    "    self.tareas = \"Programar\"\n",
    "\n",
    "  def descripcion(self):\n",
    "    return self.cedula+\"-\"+self.nombre+\"-\"+self.apellido+\"-\"+self.sexo+\"-\"+self.rol+\"-\"+self.tareas"
   ]
  },
  {
   "cell_type": "code",
   "execution_count": null,
   "metadata": {},
   "outputs": [],
   "source": [
    "supervisor1 = Supervisor(\"V-16987456\", \"Jen\", \"Paz\", \"M\", \"Ingeniero\")\n",
    "supervisor1.descripcion()"
   ]
  },
  {
   "cell_type": "code",
   "execution_count": null,
   "metadata": {},
   "outputs": [],
   "source": [
    "class robot:\n",
    "  def __init__(self, nombre):\n",
    "    self.nombre = nombre\n",
    "\n",
    "  def saludo(self):\n",
    "    print(\"Hola soy : \"+ self.nombre)\n"
   ]
  },
  {
   "cell_type": "code",
   "execution_count": null,
   "metadata": {},
   "outputs": [],
   "source": [
    "class robotFisico(robot):\n",
    "  pass"
   ]
  },
  {
   "cell_type": "code",
   "execution_count": null,
   "metadata": {},
   "outputs": [],
   "source": [
    "x = robot(\"Marvin\")\n",
    "y = robotFisico(\"James\")\n",
    "x.saludo()\n",
    "y.saludo()"
   ]
  },
  {
   "cell_type": "code",
   "execution_count": null,
   "metadata": {},
   "outputs": [],
   "source": [
    "\n",
    "#polimorfismo de funcion\n",
    "class Tomate:\n",
    "    def tipo(self):\n",
    "        print('vegetal')\n",
    "    def color(self):\n",
    "        print('rojo')\n",
    "\n",
    "class Manzana:\n",
    "    def tipo(self):\n",
    "        print('fruta')\n",
    "    def color(self):\n",
    "        print('verde')\n",
    "\n",
    "def funcion(objeto):\n",
    "    objeto.tipo()        \n",
    "    objeto.color() \n",
    "\n",
    "\n",
    "nuevo_tomate = Tomate()\n",
    "funcion(nuevo_tomate)    \n",
    "\n",
    "nueva_manzana = Manzana()\n",
    "funcion(nueva_manzana)    "
   ]
  },
  {
   "cell_type": "code",
   "execution_count": null,
   "metadata": {},
   "outputs": [],
   "source": [
    "#polimorfismo con metodos\n",
    "class Colombia:\n",
    "    def capital(self):\n",
    "        print('Bogota')\n",
    "    def idioma(self):\n",
    "        print('Español')\n",
    "\n",
    "class Francia:\n",
    "    def capital(self):\n",
    "        print('Paris')\n",
    "    def idioma(self):\n",
    "        print('Frances')        \n",
    "\n",
    "colombiano = Colombia()\n",
    "frances = Francia()\n",
    "for pais in (colombiano, frances):\n",
    "    pais.capital()\n",
    "    pais.idioma()"
   ]
  },
  {
   "cell_type": "code",
   "execution_count": null,
   "metadata": {},
   "outputs": [],
   "source": [
    "#polimorfismo con herencia\n",
    "class Aves:\n",
    "    def volar(self):\n",
    "        print('La mayoria de las aves pueden volar')\n",
    "\n",
    "class Aguila(Aves):\n",
    "    def volar(self):\n",
    "        print('Las aguilas pueden volar')\n",
    "\n",
    "class Gallina(Aves):\n",
    "    def volar(self):\n",
    "        print('Las gallina no puede volar')        \n",
    "\n",
    "#instanciando objetos\n",
    "objeto_ave = Aves()\n",
    "objeto_aguila = Aguila()\n",
    "objeto_gallina = Gallina()"
   ]
  }
 ],
 "metadata": {
  "kernelspec": {
   "display_name": "Python 3.8.12 ('practica')",
   "language": "python",
   "name": "python3"
  },
  "language_info": {
   "name": "python",
   "version": "3.8.12"
  },
  "orig_nbformat": 4,
  "vscode": {
   "interpreter": {
    "hash": "ddd898ffcac8b174d9458573293799aa37fcc87d459b9efa4a5ab5ed4bce8439"
   }
  }
 },
 "nbformat": 4,
 "nbformat_minor": 2
}
