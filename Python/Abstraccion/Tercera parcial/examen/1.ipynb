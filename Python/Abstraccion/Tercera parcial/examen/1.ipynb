{
 "cells": [
  {
   "cell_type": "markdown",
   "metadata": {},
   "source": [
    "La Universidad en su propósito de potenciar la investigación, solicitó la implementación de un software que permita gestionar la información referente a investigación. Como parte de este software se implementó lo siguiente:\n",
    "-\tUna clase cEscuela con los siguientes atributos: \n",
    "\t- IdEscuela, \n",
    "\t- Nombre, \n",
    "\t- Facultad\n",
    "-\tUna clase cInvestigacion con los siguientes atributos: \n",
    "\t\n",
    "\t- IdEscuela, \n",
    "\t- NroTrabajosInvestigacion, \n",
    "\t- NroInvestigadoresDocente, \n",
    "\t- NroInvestigadoresAlumno.\n",
    "\n",
    "Así mismo, en un arreglo se almacenó objetos de la clase cEscuela y en otro arreglo objetos de la clase cInvestigacion.\n",
    "\n",
    "* cEscuela(\"IN\",\"Ingeniería Informática\",\"FTIC\");\n",
    "* cEscuela(\"IS\", \"Ingeniería de Software\", \"FTIC\");\n",
    "* cEscuela(\"CD\", \"Ciencia de Datos\", \"FTIC\");\n",
    "* cEscuela(\"CO\", \"Contabilidad\", \"FCC\");\n",
    "* cEscuela(\"MH\", \"Medicina Humana\", \"FCS\");\n",
    "* cEscuela(\"OD\", \"Odontología\", \"FCS\");\n",
    "* cEscuela(\"EN\", \"Enfermería\", \"FCS\");\n",
    "\t#### /* Crear arreglo de objetos investigación */\n",
    "\n",
    "- cInvestigacion(\"IN\", 10, 21, 12);\n",
    "- cInvestigacion(\"IS\", 8, 16, 16);\n",
    "- cInvestigacion(\"CD\", 16, 38, 22);\n",
    "- cInvestigacion(\"CO\", 5, 12, 8);\n",
    "- cInvestigacion(\"MH\", 8, 14, 0);\n",
    "- cInvestigacion(\"OD\", 7, 14, 2);\n",
    "- cInvestigacion(\"EN\", 5, 10, 0);\n",
    "\n",
    "A Ud. Se le pide escribir módulos para:\n",
    "\n",
    "### 1.- Determinar el número de investigadores docente y el número de investigadores alumno de una determinada facultad.\n",
    "### 2.- Mostrar las Escuelas de una determinada Facultad que tienen más de N investigadores docente."
   ]
  },
  {
   "cell_type": "code",
   "execution_count": 4,
   "metadata": {},
   "outputs": [
    {
     "ename": "TypeError",
     "evalue": "cEscuela() takes no arguments",
     "output_type": "error",
     "traceback": [
      "\u001b[1;31m---------------------------------------------------------------------------\u001b[0m",
      "\u001b[1;31mTypeError\u001b[0m                                 Traceback (most recent call last)",
      "\u001b[1;32md:\\Algo\\Win\\tod\\Python\\Abstraccion\\Tercera parcial\\examen\\1.ipynb Cell 2\u001b[0m in \u001b[0;36m<cell line: 14>\u001b[1;34m()\u001b[0m\n\u001b[0;32m     <a href='vscode-notebook-cell:/d%3A/Algo/Win/tod/Python/Abstraccion/Tercera%20parcial/examen/1.ipynb#W0sZmlsZQ%3D%3D?line=10'>11</a>\u001b[0m         \u001b[39mself\u001b[39m\u001b[39m.\u001b[39mNombre \u001b[39m=\u001b[39m Nombre\n\u001b[0;32m     <a href='vscode-notebook-cell:/d%3A/Algo/Win/tod/Python/Abstraccion/Tercera%20parcial/examen/1.ipynb#W0sZmlsZQ%3D%3D?line=11'>12</a>\u001b[0m         \u001b[39mself\u001b[39m\u001b[39m.\u001b[39mFacultad \u001b[39m=\u001b[39m Facultad\n\u001b[1;32m---> <a href='vscode-notebook-cell:/d%3A/Algo/Win/tod/Python/Abstraccion/Tercera%20parcial/examen/1.ipynb#W0sZmlsZQ%3D%3D?line=13'>14</a>\u001b[0m ArregloEscuelas \u001b[39m=\u001b[39m [ cEscuela(\u001b[39m\"\u001b[39;49m\u001b[39mIN\u001b[39;49m\u001b[39m\"\u001b[39;49m,\u001b[39m\"\u001b[39;49m\u001b[39mIngeniería Informática\u001b[39;49m\u001b[39m\"\u001b[39;49m,\u001b[39m\"\u001b[39;49m\u001b[39mFTIC\u001b[39;49m\u001b[39m\"\u001b[39;49m), \n\u001b[0;32m     <a href='vscode-notebook-cell:/d%3A/Algo/Win/tod/Python/Abstraccion/Tercera%20parcial/examen/1.ipynb#W0sZmlsZQ%3D%3D?line=14'>15</a>\u001b[0m                     cEscuela(\u001b[39m\"\u001b[39m\u001b[39mIS\u001b[39m\u001b[39m\"\u001b[39m, \u001b[39m\"\u001b[39m\u001b[39mIngeniería de Software\u001b[39m\u001b[39m\"\u001b[39m, \u001b[39m\"\u001b[39m\u001b[39mFTIC\u001b[39m\u001b[39m\"\u001b[39m), \n\u001b[0;32m     <a href='vscode-notebook-cell:/d%3A/Algo/Win/tod/Python/Abstraccion/Tercera%20parcial/examen/1.ipynb#W0sZmlsZQ%3D%3D?line=15'>16</a>\u001b[0m                     cEscuela(\u001b[39m\"\u001b[39m\u001b[39mCD\u001b[39m\u001b[39m\"\u001b[39m, \u001b[39m\"\u001b[39m\u001b[39mCiencia de Datos\u001b[39m\u001b[39m\"\u001b[39m, \u001b[39m\"\u001b[39m\u001b[39mFTIC\u001b[39m\u001b[39m\"\u001b[39m), \n\u001b[0;32m     <a href='vscode-notebook-cell:/d%3A/Algo/Win/tod/Python/Abstraccion/Tercera%20parcial/examen/1.ipynb#W0sZmlsZQ%3D%3D?line=16'>17</a>\u001b[0m                     cEscuela(\u001b[39m\"\u001b[39m\u001b[39mCO\u001b[39m\u001b[39m\"\u001b[39m, \u001b[39m\"\u001b[39m\u001b[39mContabilidad\u001b[39m\u001b[39m\"\u001b[39m, \u001b[39m\"\u001b[39m\u001b[39mFCC\u001b[39m\u001b[39m\"\u001b[39m), \n\u001b[0;32m     <a href='vscode-notebook-cell:/d%3A/Algo/Win/tod/Python/Abstraccion/Tercera%20parcial/examen/1.ipynb#W0sZmlsZQ%3D%3D?line=17'>18</a>\u001b[0m                     cEscuela(\u001b[39m\"\u001b[39m\u001b[39mMH\u001b[39m\u001b[39m\"\u001b[39m, \u001b[39m\"\u001b[39m\u001b[39mMedicina Humana\u001b[39m\u001b[39m\"\u001b[39m, \u001b[39m\"\u001b[39m\u001b[39mFCS\u001b[39m\u001b[39m\"\u001b[39m), \n\u001b[0;32m     <a href='vscode-notebook-cell:/d%3A/Algo/Win/tod/Python/Abstraccion/Tercera%20parcial/examen/1.ipynb#W0sZmlsZQ%3D%3D?line=18'>19</a>\u001b[0m                     cEscuela(\u001b[39m\"\u001b[39m\u001b[39mOD\u001b[39m\u001b[39m\"\u001b[39m, \u001b[39m\"\u001b[39m\u001b[39mOdontología\u001b[39m\u001b[39m\"\u001b[39m, \u001b[39m\"\u001b[39m\u001b[39mFCS\u001b[39m\u001b[39m\"\u001b[39m),\n\u001b[0;32m     <a href='vscode-notebook-cell:/d%3A/Algo/Win/tod/Python/Abstraccion/Tercera%20parcial/examen/1.ipynb#W0sZmlsZQ%3D%3D?line=19'>20</a>\u001b[0m                     cEscuela(\u001b[39m\"\u001b[39m\u001b[39mEN\u001b[39m\u001b[39m\"\u001b[39m, \u001b[39m\"\u001b[39m\u001b[39mEnfermería\u001b[39m\u001b[39m\"\u001b[39m, \u001b[39m\"\u001b[39m\u001b[39mFCS\u001b[39m\u001b[39m\"\u001b[39m)]\n\u001b[0;32m     <a href='vscode-notebook-cell:/d%3A/Algo/Win/tod/Python/Abstraccion/Tercera%20parcial/examen/1.ipynb#W0sZmlsZQ%3D%3D?line=21'>22</a>\u001b[0m ArregloInvestigacion \u001b[39m=\u001b[39m [cInvestigacion(\u001b[39m\"\u001b[39m\u001b[39mIN\u001b[39m\u001b[39m\"\u001b[39m, \u001b[39m10\u001b[39m, \u001b[39m21\u001b[39m, \u001b[39m12\u001b[39m),\n\u001b[0;32m     <a href='vscode-notebook-cell:/d%3A/Algo/Win/tod/Python/Abstraccion/Tercera%20parcial/examen/1.ipynb#W0sZmlsZQ%3D%3D?line=22'>23</a>\u001b[0m                         cInvestigacion(\u001b[39m\"\u001b[39m\u001b[39mIS\u001b[39m\u001b[39m\"\u001b[39m, \u001b[39m8\u001b[39m, \u001b[39m16\u001b[39m, \u001b[39m16\u001b[39m), \n\u001b[0;32m     <a href='vscode-notebook-cell:/d%3A/Algo/Win/tod/Python/Abstraccion/Tercera%20parcial/examen/1.ipynb#W0sZmlsZQ%3D%3D?line=23'>24</a>\u001b[0m                         cInvestigacion(\u001b[39m\"\u001b[39m\u001b[39mCD\u001b[39m\u001b[39m\"\u001b[39m, \u001b[39m16\u001b[39m, \u001b[39m38\u001b[39m, \u001b[39m22\u001b[39m),\n\u001b[1;32m   (...)\u001b[0m\n\u001b[0;32m     <a href='vscode-notebook-cell:/d%3A/Algo/Win/tod/Python/Abstraccion/Tercera%20parcial/examen/1.ipynb#W0sZmlsZQ%3D%3D?line=26'>27</a>\u001b[0m                         cInvestigacion(\u001b[39m\"\u001b[39m\u001b[39mOD\u001b[39m\u001b[39m\"\u001b[39m, \u001b[39m7\u001b[39m, \u001b[39m14\u001b[39m, \u001b[39m2\u001b[39m),\n\u001b[0;32m     <a href='vscode-notebook-cell:/d%3A/Algo/Win/tod/Python/Abstraccion/Tercera%20parcial/examen/1.ipynb#W0sZmlsZQ%3D%3D?line=27'>28</a>\u001b[0m                         cInvestigacion(\u001b[39m\"\u001b[39m\u001b[39mEN\u001b[39m\u001b[39m\"\u001b[39m, \u001b[39m5\u001b[39m, \u001b[39m10\u001b[39m, \u001b[39m0\u001b[39m)]\n\u001b[0;32m     <a href='vscode-notebook-cell:/d%3A/Algo/Win/tod/Python/Abstraccion/Tercera%20parcial/examen/1.ipynb#W0sZmlsZQ%3D%3D?line=29'>30</a>\u001b[0m \u001b[39m# Determinar el número de investigadores docente y el número de investigadores alumno de una determinada facultad.\u001b[39;00m\n\u001b[0;32m     <a href='vscode-notebook-cell:/d%3A/Algo/Win/tod/Python/Abstraccion/Tercera%20parcial/examen/1.ipynb#W0sZmlsZQ%3D%3D?line=30'>31</a>\u001b[0m \u001b[39m# mostrar investigadores docente de una facultad\u001b[39;00m\n",
      "\u001b[1;31mTypeError\u001b[0m: cEscuela() takes no arguments"
     ]
    }
   ],
   "source": [
    "class cInvestigacion():\n",
    "    def _init_(self, IdEscuela, NroTrabajosInvestigacion, NroInvestigadoresDocente, NroInvestigadoresAlumno):\n",
    "        self.IdEscuela = IdEscuela\n",
    "        self.NroTrabajosInvestigacion = NroTrabajosInvestigacion\n",
    "        self.NroInvestigadoresDocente = NroInvestigadoresDocente\n",
    "        self.NroInvestigadoresAlumno = NroInvestigadoresAlumno\n",
    "\n",
    "class cEscuela():\n",
    "    def _init_(self, IdEscuela, Nombre, Facultad):\n",
    "        self.IdEscuela = IdEscuela\n",
    "        self.Nombre = Nombre\n",
    "        self.Facultad = Facultad\n",
    "\n",
    "ArregloEscuelas = [ cEscuela(\"IN\",\"Ingeniería Informática\",\"FTIC\"), \n",
    "                    cEscuela(\"IS\", \"Ingeniería de Software\", \"FTIC\"), \n",
    "                    cEscuela(\"CD\", \"Ciencia de Datos\", \"FTIC\"), \n",
    "                    cEscuela(\"CO\", \"Contabilidad\", \"FCC\"), \n",
    "                    cEscuela(\"MH\", \"Medicina Humana\", \"FCS\"), \n",
    "                    cEscuela(\"OD\", \"Odontología\", \"FCS\"),\n",
    "                    cEscuela(\"EN\", \"Enfermería\", \"FCS\")]\n",
    "\n",
    "ArregloInvestigacion = [cInvestigacion(\"IN\", 10, 21, 12),\n",
    "                        cInvestigacion(\"IS\", 8, 16, 16), \n",
    "                        cInvestigacion(\"CD\", 16, 38, 22),\n",
    "                        cInvestigacion(\"CO\", 5, 12, 8),\n",
    "                        cInvestigacion(\"MH\", 8, 14, 0),\n",
    "                        cInvestigacion(\"OD\", 7, 14, 2),\n",
    "                        cInvestigacion(\"EN\", 5, 10, 0)]\n",
    "\n",
    "# Determinar el número de investigadores docente y el número de investigadores alumno de una determinada facultad.\n",
    "# mostrar investigadores docente de una facultad\n",
    "def InvestigadoresDocente(Facultad):\n",
    "    contador = 0\n",
    "    for i in range(len(ArregloEscuelas)):\n",
    "        if ArregloEscuelas[i].Facultad == Facultad:\n",
    "            contador += ArregloInvestigacion[i].NroInvestigadoresDocente\n",
    "    return contador\n",
    "\n",
    "# mostrar investigadores alumno de una facultad\n",
    "def InvestigadoresAlumno(Facultad):\n",
    "    contador = 0\n",
    "    for i in range(len(ArregloEscuelas)):\n",
    "        if ArregloEscuelas[i].Facultad == Facultad:\n",
    "            contador += ArregloInvestigacion[i].NroInvestigadoresAlumno\n",
    "    return contador\n",
    "\n",
    "print(\"Investigadores docente de la facultad de Ingeniería de Software: \",InvestigadoresDocente(\"FTIC\"))\n",
    "print(\"Investigadores alumno de la facultad de Ingeniería de Software: \",InvestigadoresAlumno(\"FTIC\"))\n",
    "print(\"Investigadores docente de la facultad de Ciencias de Datos: \",InvestigadoresDocente(\"FTIC\"))\n",
    "print(\"Investigadores alumno de la facultad de Ciencias de Datos: \",InvestigadoresAlumno(\"FTIC\"))\n",
    "\n",
    "# Mostrar las Escuelas de una determinada Facultad que tienen más de N investigadores docente.\n",
    "def EscuelasFacultad(Facultad, N):\n",
    "    for i in range(len(ArregloEscuelas)):\n",
    "        if ArregloEscuelas[i].Facultad == Facultad and ArregloInvestigacion[i].NroInvestigadoresDocente > N:\n",
    "            print(ArregloEscuelas[i].Nombre)\n",
    "N = int(input(\"Introduce el número de investigadores docente: \"))\n",
    "print(\"Escuelas de la facultad de Ingeniería de Software que tienen más de \",N,\" investigadores docente: \")\n",
    "EscuelasFacultad(\"FTIC\", N)\n",
    "print(\"Escuelas de la facultad de Ciencias de Datos que tienen más de \",N,\" investigadores docente: \")\n",
    "EscuelasFacultad(\"FTIC\", N)"
   ]
  }
 ],
 "metadata": {
  "kernelspec": {
   "display_name": "Python 3.8.12 ('practica')",
   "language": "python",
   "name": "python3"
  },
  "language_info": {
   "codemirror_mode": {
    "name": "ipython",
    "version": 3
   },
   "file_extension": ".py",
   "mimetype": "text/x-python",
   "name": "python",
   "nbconvert_exporter": "python",
   "pygments_lexer": "ipython3",
   "version": "3.8.12"
  },
  "orig_nbformat": 4,
  "vscode": {
   "interpreter": {
    "hash": "ddd898ffcac8b174d9458573293799aa37fcc87d459b9efa4a5ab5ed4bce8439"
   }
  }
 },
 "nbformat": 4,
 "nbformat_minor": 2
}
