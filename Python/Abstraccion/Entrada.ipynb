{
 "cells": [
  {
   "cell_type": "markdown",
   "metadata": {},
   "source": [
    "En la Info Olimpiada que se organizará apenas concluya la pandemia, se desea crear una nueva competencia (juego); para lo cual se tienen tres cuerdas de N1, N2, y N3 metros respectivamente. La idea es cortar las cuerdas en trozos iguales lo más grandes posible y sin que sobre nada.\n",
    " \n",
    "A Ud. le solicitan escribir un algoritmo modular que, dados tres números, correspondientes a las longitudes de las cuerdas, determine el tamaño de cada trozo."
   ]
  },
  {
   "cell_type": "markdown",
   "metadata": {},
   "source": [
    "Ejemplo:\n",
    "INPUT\n",
    "        \t\n",
    "N1                \tN2           N3\t                                                                       \n",
    "24                 \t36             \t18    \n",
    "\n",
    "OUTPUT\n",
    "\n",
    "Tamaño Trozo\n",
    "\n",
    "6"
   ]
  },
  {
   "cell_type": "code",
   "execution_count": 16,
   "metadata": {},
   "outputs": [
    {
     "name": "stdout",
     "output_type": "stream",
     "text": [
      "El tamaño de cada trozo es de 6 para que no sobre nada.\n"
     ]
    }
   ],
   "source": [
    "a = int(input(\"Ingrese el segundo numero: \"))\n",
    "b = int(input(\"Ingrese el segundo numero: \"))\n",
    "c = int(input(\"Ingrese el tercer numero: \"))\n",
    "\n",
    "def MCD(a, b, c):\n",
    "    if a > b and a > c:\n",
    "        mayor = a\n",
    "    elif b > a and b > c:\n",
    "        mayor = b\n",
    "    else:\n",
    "        mayor = c\n",
    "    while mayor != 0:\n",
    "        if a % mayor == 0 and b % mayor == 0 and c % mayor == 0:\n",
    "            return mayor\n",
    "        mayor -= 1\n",
    "    return 1\n",
    "\n",
    "print(f'El tamaño de cada trozo es de {MCD(a, b, c)} para que no sobre nada.')\n"
   ]
  }
 ],
 "metadata": {
  "kernelspec": {
   "display_name": "Python 3.8.12 ('practica')",
   "language": "python",
   "name": "python3"
  },
  "language_info": {
   "codemirror_mode": {
    "name": "ipython",
    "version": 3
   },
   "file_extension": ".py",
   "mimetype": "text/x-python",
   "name": "python",
   "nbconvert_exporter": "python",
   "pygments_lexer": "ipython3",
   "version": "3.8.12"
  },
  "orig_nbformat": 4,
  "vscode": {
   "interpreter": {
    "hash": "ddd898ffcac8b174d9458573293799aa37fcc87d459b9efa4a5ab5ed4bce8439"
   }
  }
 },
 "nbformat": 4,
 "nbformat_minor": 2
}
