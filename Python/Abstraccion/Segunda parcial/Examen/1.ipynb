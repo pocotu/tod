{
 "cells": [
  {
   "cell_type": "markdown",
   "metadata": {},
   "source": [
    "La Dirección de la Escuela Profesional de Ingeniería Informática y de Sistemas, desea automatizar la información académica de los estudiantes de la Escuela. Para este propósito, se implementó:<br>\n",
    "-\tUn diccionario con la información de los alumnos, con la siguiente estructura:<br>\n",
    "dal = {codAlumno:[ap, am, nombres], codAlumno:[ap, am, nombres], …}<br>\n",
    "-\tUn diccionario con la información de las asignaturas dictadas en Escuela Profesional:<br>\n",
    "das = {idAsignatura:[nombre, categoria, nroCreditos, preRequisito],…}<br>\n",
    "-\tUn diccionario con la información de las asignaturas cursadas por cada estudiante:<br>\n",
    "dac = {codAlumno:[[idAsignatura,nota], [idAsignatura,nota] , [idAsignatura,nota]], …}<br>"
   ]
  },
  {
   "cell_type": "code",
   "execution_count": 1,
   "metadata": {},
   "outputs": [],
   "source": [
    "# -- Datos de los alumnos\n",
    "dal = {'180526':['Paz','Guerra','Angel'],\n",
    "       '201835':['Meza','Díaz','Ana'],\n",
    "       '190734':['Zea','Cuno','Eva'],\n",
    "       '210115':['Peña','Puma','Pío'],\n",
    "       '170945':['Cusi','Bueno','Juan'],\n",
    "       '200082':['Mar','Nina','Luz']\n",
    "      }\n",
    "# -- Datos de asignaturas\n",
    "das = {'IF101AIN':['Introducción a la informática', 'OE', 4, ''],\n",
    "       'IF301AIN':['Bases de datos', 'OE', 4, ''],\n",
    "       'IF450AIN':['Abstracción de datos y objetos', 'OE', 4, ''],\n",
    "       'IF452AIN':['Algoritmos y estructuras de datos', 'OE', 4, ''],\n",
    "       'IF710AIN':['Liderazgo', 'OE', 3, ''],\n",
    "       'IF656AIN':['Visión computacional', 'EE', 4, ''],\n",
    "       'IF655AIN':['Aprendizaje profundo', 'EE', 4, '']\n",
    "      }\n",
    "# -- Datos de asignaturas cursadas por los alumnos\n",
    "dac = {'210115':[['IF301AIN',16], ['IF101AIN',17] , ['IF710AIN',14]],\n",
    "       '190734':[['IF101AIN',19], ['IF655AIN',12] , ['IF710AIN',13] , ['IF450AIN',18] , ['IF301AIN',15]],\n",
    "       '180526':[['IF101AIN',14], ['IF450AIN',10] , ['IF655AIN',18]],\n",
    "       '200082':[['IF101AIN',16], ['IF655AIN',18] , ['IF710AIN',11] , ['IF450AIN',16] , ['IF301AIN',17]]\n",
    "      }"
   ]
  },
  {
   "cell_type": "markdown",
   "metadata": {},
   "source": [
    "Determinar el número de créditos aprobados por un determinado estudiante."
   ]
  },
  {
   "cell_type": "code",
   "execution_count": 2,
   "metadata": {},
   "outputs": [
    {
     "name": "stdout",
     "output_type": "stream",
     "text": [
      "Alumnos:\n",
      "180526 ['Paz', 'Guerra', 'Angel']\n",
      "201835 ['Meza', 'Díaz', 'Ana']\n",
      "190734 ['Zea', 'Cuno', 'Eva']\n",
      "210115 ['Peña', 'Puma', 'Pío']\n",
      "170945 ['Cusi', 'Bueno', 'Juan']\n",
      "200082 ['Mar', 'Nina', 'Luz']\n",
      "\n"
     ]
    }
   ],
   "source": [
    "def imprime_alumnos(dal):\n",
    "    for clave in dal:\n",
    "        print(clave, dal[clave])\n",
    "    print()\n",
    "    return\n",
    "\n",
    "print(\"Alumnos:\")\n",
    "imprime_alumnos(dal)"
   ]
  },
  {
   "cell_type": "code",
   "execution_count": 3,
   "metadata": {},
   "outputs": [
    {
     "name": "stdout",
     "output_type": "stream",
     "text": [
      "Asignaturas:\n",
      "IF101AIN ['Introducción a la informática', 'OE', 4, '']\n",
      "IF301AIN ['Bases de datos', 'OE', 4, '']\n",
      "IF450AIN ['Abstracción de datos y objetos', 'OE', 4, '']\n",
      "IF452AIN ['Algoritmos y estructuras de datos', 'OE', 4, '']\n",
      "IF710AIN ['Liderazgo', 'OE', 3, '']\n",
      "IF656AIN ['Visión computacional', 'EE', 4, '']\n",
      "IF655AIN ['Aprendizaje profundo', 'EE', 4, '']\n",
      "\n"
     ]
    }
   ],
   "source": [
    "def imprime_asignaturas(das):\n",
    "    for clave in das:\n",
    "        print(clave, das[clave])\n",
    "    print()\n",
    "    return\n",
    "print(\"Asignaturas:\")\n",
    "imprime_asignaturas(das)"
   ]
  },
  {
   "cell_type": "code",
   "execution_count": 4,
   "metadata": {},
   "outputs": [
    {
     "name": "stdout",
     "output_type": "stream",
     "text": [
      "Asignaturas cursadas por los alumnos:\n",
      "210115 [['IF301AIN', 16], ['IF101AIN', 17], ['IF710AIN', 14]]\n",
      "190734 [['IF101AIN', 19], ['IF655AIN', 12], ['IF710AIN', 13], ['IF450AIN', 18], ['IF301AIN', 15]]\n",
      "180526 [['IF101AIN', 14], ['IF450AIN', 10], ['IF655AIN', 18]]\n",
      "200082 [['IF101AIN', 16], ['IF655AIN', 18], ['IF710AIN', 11], ['IF450AIN', 16], ['IF301AIN', 17]]\n",
      "\n"
     ]
    }
   ],
   "source": [
    "def imprime_asignaturas_cursadas(dac):\n",
    "    for clave in dac:\n",
    "        print(clave, dac[clave])\n",
    "    print()\n",
    "    return\n",
    "print(\"Asignaturas cursadas por los alumnos:\")\n",
    "imprime_asignaturas_cursadas(dac)"
   ]
  },
  {
   "cell_type": "code",
   "execution_count": 12,
   "metadata": {},
   "outputs": [
    {
     "name": "stdout",
     "output_type": "stream",
     "text": [
      "Creditos aprobados: 42\n",
      "El alumno Paz Guerra Angel tiene 42 creditos aprobados\n"
     ]
    }
   ],
   "source": [
    "entrada_codigo = input(\"Introduce el código de un alumno: \")\n",
    "\n",
    "def creditos_aprobados(dac, codigo):\n",
    "    creditos = 0\n",
    "    for clave in dac:\n",
    "        if clave == codigo:\n",
    "            for asignatura in dac[clave]:\n",
    "                creditos += asignatura[1]\n",
    "    return creditos\n",
    "\n",
    "print(\"El alumno\", dal[entrada_codigo][0], dal[entrada_codigo][1], dal[entrada_codigo][2], \"tiene\", creditos_aprobados(dac, entrada_codigo), \"creditos aprobados\")"
   ]
  }
 ],
 "metadata": {
  "kernelspec": {
   "display_name": "Python 3.8.12 ('practica')",
   "language": "python",
   "name": "python3"
  },
  "language_info": {
   "codemirror_mode": {
    "name": "ipython",
    "version": 3
   },
   "file_extension": ".py",
   "mimetype": "text/x-python",
   "name": "python",
   "nbconvert_exporter": "python",
   "pygments_lexer": "ipython3",
   "version": "3.8.12"
  },
  "orig_nbformat": 4,
  "vscode": {
   "interpreter": {
    "hash": "ddd898ffcac8b174d9458573293799aa37fcc87d459b9efa4a5ab5ed4bce8439"
   }
  }
 },
 "nbformat": 4,
 "nbformat_minor": 2
}
