{
 "cells": [
  {
   "cell_type": "markdown",
   "metadata": {},
   "source": [
    "La Dirección de la Escuela Profesional de Ingeniería Informática y de Sistemas, desea automatizar la información académica de los estudiantes de la Escuela. Para este propósito, se implementó:<br>\n",
    "-\tUn diccionario con la información de los alumnos, con la siguiente estructura:<br>\n",
    "dal = {codAlumno:[ap, am, nombres], codAlumno:[ap, am, nombres], …}<br>\n",
    "-\tUn diccionario con la información de las asignaturas dictadas en Escuela Profesional:<br>\n",
    "das = {idAsignatura:[nombre, categoria, nroCreditos, preRequisito],…}<br>\n",
    "-\tUn diccionario con la información de las asignaturas cursadas por cada estudiante:<br>\n",
    "dac = {codAlumno:[[idAsignatura,nota], [idAsignatura,nota] , [idAsignatura,nota]], …}<br>"
   ]
  },
  {
   "cell_type": "code",
   "execution_count": 2,
   "metadata": {},
   "outputs": [
    {
     "name": "stdout",
     "output_type": "stream",
     "text": [
      "{'IF710AIN', 'IF101AIN', 'IF301AIN', 'IF450AIN', 'IF655AIN'}\n"
     ]
    }
   ],
   "source": [
    "# -- Datos de los alumnos\n",
    "dal = {'180526':['Paz','Guerra','Angel'],\n",
    "       '201835':['Meza','Díaz','Ana'],\n",
    "       '190734':['Zea','Cuno','Eva'],\n",
    "       '210115':['Peña','Puma','Pío'],\n",
    "       '170945':['Cusi','Bueno','Juan'],\n",
    "       '200082':['Mar','Nina','Luz']\n",
    "      }\n",
    "# -- Datos de asignaturas\n",
    "das = {'IF101AIN':['Introducción a la informática', 'OE', 4, ''],\n",
    "       'IF301AIN':['Bases de datos', 'OE', 4, ''],\n",
    "       'IF450AIN':['Abstracción de datos y objetos', 'OE', 4, ''],\n",
    "       'IF452AIN':['Algoritmos y estructuras de datos', 'OE', 4, ''],\n",
    "       'IF710AIN':['Liderazgo', 'OE', 3, ''],\n",
    "       'IF656AIN':['Visión computacional', 'EE', 4, ''],\n",
    "       'IF655AIN':['Aprendizaje profundo', 'EE', 4, '']\n",
    "      }\n",
    "# -- Datos de asignaturas cursadas por los alumnos\n",
    "dac = {'210115':[['IF301AIN',16], ['IF101AIN',17] , ['IF710AIN',14]],\n",
    "       '190734':[['IF101AIN',19], ['IF655AIN',12] , ['IF710AIN',13] , ['IF450AIN',18] , ['IF301AIN',15]],\n",
    "       '180526':[['IF101AIN',14], ['IF450AIN',10] , ['IF655AIN',18]],\n",
    "       '200082':[['IF101AIN',16], ['IF655AIN',18] , ['IF710AIN',11] , ['IF450AIN',16] , ['IF301AIN',17]]\n",
    "      }\n",
    "\n",
    "# creamos un conjunto C\n",
    "c = set()\n",
    "# recorremos el diccionario dac y lo agregamos a C \n",
    "for i in dac.values():\n",
    "       # recorremos y agregamos a C las asignaturas cursadas por los alumnos\n",
    "       c = c.union({j[0] for j in i})\n",
    "print(c)"
   ]
  },
  {
   "cell_type": "markdown",
   "metadata": {},
   "source": [
    "Determinar el número de créditos aprobados por un determinado estudiante."
   ]
  },
  {
   "cell_type": "code",
   "execution_count": 6,
   "metadata": {},
   "outputs": [
    {
     "name": "stdout",
     "output_type": "stream",
     "text": [
      "[]\n"
     ]
    }
   ],
   "source": [
    "def creditosAprobadosEstudiantes(codigoAlumno):\n",
    "    # creamos una lista L\n",
    "    l = []\n",
    "    # recorremos el diccionario dac y lo agregamos a L \n",
    "    for i in dac.values():\n",
    "        # recorremos y agregamos a L las asignaturas cursadas por los alumnos\n",
    "        l = l + [j[1] for j in i if j[0] == codigoAlumno]\n",
    "    # retornamos la lista L\n",
    "    return l\n",
    "\n",
    "\n",
    "print(creditosAprobadosEstudiantes('210115'))\n",
    "\n"
   ]
  },
  {
   "cell_type": "markdown",
   "metadata": {},
   "source": [
    "Generar un diccionario con la relación de asignaturas de categoría ‘EE’ (Electivos de Especialidad), que no haya sido cursada por ningún alumno."
   ]
  },
  {
   "cell_type": "code",
   "execution_count": 3,
   "metadata": {},
   "outputs": [
    {
     "name": "stdout",
     "output_type": "stream",
     "text": [
      "{'IF452AIN': ['Algoritmos y estructuras de datos', 'OE', 4, ''], 'IF656AIN': ['Visión computacional', 'EE', 4, '']}\n"
     ]
    }
   ],
   "source": [
    "# generar un diccionario con la relacion de asignaturas de categoria 'EE' que no esten cursadas por los alumnos\n",
    "d = {k:v for k,v in das.items() if v[2] == 4 and k not in c}\n",
    "print(d)\n",
    "  "
   ]
  }
 ],
 "metadata": {
  "kernelspec": {
   "display_name": "Python 3.8.12 ('practica')",
   "language": "python",
   "name": "python3"
  },
  "language_info": {
   "codemirror_mode": {
    "name": "ipython",
    "version": 3
   },
   "file_extension": ".py",
   "mimetype": "text/x-python",
   "name": "python",
   "nbconvert_exporter": "python",
   "pygments_lexer": "ipython3",
   "version": "3.8.12"
  },
  "orig_nbformat": 4,
  "vscode": {
   "interpreter": {
    "hash": "ddd898ffcac8b174d9458573293799aa37fcc87d459b9efa4a5ab5ed4bce8439"
   }
  }
 },
 "nbformat": 4,
 "nbformat_minor": 2
}
