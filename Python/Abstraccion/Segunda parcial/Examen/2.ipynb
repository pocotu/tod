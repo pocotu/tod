{
 "cells": [
  {
   "cell_type": "code",
   "execution_count": 1,
   "metadata": {},
   "outputs": [],
   "source": [
    "# -- Datos de los alumnos\n",
    "dal = {'180526':['Paz','Guerra','Angel'],\n",
    "       '201835':['Meza','Díaz','Ana'],\n",
    "       '190734':['Zea','Cuno','Eva'],\n",
    "       '210115':['Peña','Puma','Pío'],\n",
    "       '170945':['Cusi','Bueno','Juan'],\n",
    "       '200082':['Mar','Nina','Luz']\n",
    "      }\n",
    "# -- Datos de asignaturas\n",
    "das = {'IF101AIN':['Introducción a la informática', 'OE', 4, ''],\n",
    "       'IF301AIN':['Bases de datos', 'OE', 4, ''],\n",
    "       'IF450AIN':['Abstracción de datos y objetos', 'OE', 4, ''],\n",
    "       'IF452AIN':['Algoritmos y estructuras de datos', 'OE', 4, ''],\n",
    "       'IF710AIN':['Liderazgo', 'OE', 3, ''],\n",
    "       'IF656AIN':['Visión computacional', 'EE', 4, ''],\n",
    "       'IF655AIN':['Aprendizaje profundo', 'EE', 4, '']\n",
    "      }\n",
    "# -- Datos de asignaturas cursadas por los alumnos\n",
    "dac = {'210115':[['IF301AIN',16], ['IF101AIN',17] , ['IF710AIN',14]],\n",
    "       '190734':[['IF101AIN',19], ['IF655AIN',12] , ['IF710AIN',13] , ['IF450AIN',18] , ['IF301AIN',15]],\n",
    "       '180526':[['IF101AIN',14], ['IF450AIN',10] , ['IF655AIN',18]],\n",
    "       '200082':[['IF101AIN',16], ['IF655AIN',18] , ['IF710AIN',11] , ['IF450AIN',16] , ['IF301AIN',17]]\n",
    "      }"
   ]
  },
  {
   "cell_type": "markdown",
   "metadata": {},
   "source": [
    "Generar un diccionario con la relación de asignaturas de categoría ‘EE’ (Electivos de Especialidad), que no haya sido cursada por ningún alumno."
   ]
  },
  {
   "cell_type": "code",
   "execution_count": 22,
   "metadata": {},
   "outputs": [
    {
     "data": {
      "text/plain": [
       "'\\ndas_2 = das\\nfor K in dac:\\n  Lista_2 = dac[K]# [[\\'IF301AIN\\',16], [\\'IF101AIN\\',17] , [\\'IF710AIN\\',14]]\\n  for F in Lista_2: # [\\'IF301AIN\\',16]\\n     if F[0] in das_2:\\n       das_2.pop(F[0])\\ndic3 = {}\\nfor k in das_2:\\n  Lista2 = das_2[k]\\n  if Lista2[1] == \"EE\":\\n    dic3[k] = Lista2\\n    \\nprint(dic3)\\n'"
      ]
     },
     "execution_count": 22,
     "metadata": {},
     "output_type": "execute_result"
    }
   ],
   "source": [
    "entrada_catetoria = input('Ingrese la categoria de la asignatura: ')\n",
    "\n",
    "def no_cursados_catetoria(das, dac, entrada_catetoria):\n",
    "    dicc_EE = {}\n",
    "    dicc_OE = {}\n",
    "    for clave in dac:\n",
    "        for asignatura in dac[clave]:\n",
    "            if das[asignatura[0]][2] == entrada_catetoria:\n",
    "                if das[asignatura[0]][1] == 'EE':\n",
    "                    dicc_EE[clave] = dal[clave]\n",
    "                elif das[asignatura[0]][1] == 'OE':\n",
    "                    dicc_OE[clave] = dal[clave]\n",
    "    return dicc_EE, dicc_OE\n",
    "'''\n",
    "das_2 = das\n",
    "for K in dac:\n",
    "  Lista_2 = dac[K]# [['IF301AIN',16], ['IF101AIN',17] , ['IF710AIN',14]]\n",
    "  for F in Lista_2: # ['IF301AIN',16]\n",
    "     if F[0] in das_2:\n",
    "       das_2.pop(F[0])\n",
    "dic3 = {}\n",
    "for k in das_2:\n",
    "  Lista2 = das_2[k]\n",
    "  if Lista2[1] == \"EE\":\n",
    "    dic3[k] = Lista2\n",
    "    \n",
    "print(dic3)\n",
    "'''\n",
    "\n"
   ]
  }
 ],
 "metadata": {
  "kernelspec": {
   "display_name": "Python 3.8.12 ('practica')",
   "language": "python",
   "name": "python3"
  },
  "language_info": {
   "codemirror_mode": {
    "name": "ipython",
    "version": 3
   },
   "file_extension": ".py",
   "mimetype": "text/x-python",
   "name": "python",
   "nbconvert_exporter": "python",
   "pygments_lexer": "ipython3",
   "version": "3.8.12"
  },
  "orig_nbformat": 4,
  "vscode": {
   "interpreter": {
    "hash": "ddd898ffcac8b174d9458573293799aa37fcc87d459b9efa4a5ab5ed4bce8439"
   }
  }
 },
 "nbformat": 4,
 "nbformat_minor": 2
}
